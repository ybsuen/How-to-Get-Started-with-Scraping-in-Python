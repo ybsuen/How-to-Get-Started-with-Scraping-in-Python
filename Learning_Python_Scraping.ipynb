{
 "cells": [
  {
   "cell_type": "markdown",
   "metadata": {
    "slideshow": {
     "slide_type": "slide"
    }
   },
   "source": [
    "<h1><center>Data Scraping in Python</center></h1>"
   ]
  },
  {
   "cell_type": "markdown",
   "metadata": {
    "slideshow": {
     "slide_type": "slide"
    }
   },
   "source": [
    "<h1><center>The Data Story Cycle</center></h1>\n",
    "\n",
    "<img src='data_cycle2.png' height=\"100%\" width=\"100%\">"
   ]
  },
  {
   "cell_type": "markdown",
   "metadata": {
    "slideshow": {
     "slide_type": "slide"
    }
   },
   "source": [
    "<h1><center>Software for Navigating the Data Cycle in Python</center></h1>\n",
    "<div style=\"margin-left:100px;\">\n",
    "<ul>\n",
    "    <li>Data Extration <u>(BeautifulSoup, Selenium and Scrapy)</u></li>\n",
    "    <li>Data Transformation <u>(Numpy and Pandas)</u></li> \n",
    "    <li>Data Loading <u>(SQL, Flask Restful API, and Pandas)</u></li>\n",
    "    <li>Data Exploration <u>(Pandas, Numpy and Matplotlib)</u></li>\n",
    "    <li>Data Mining <u>(Pandas, NumPy, Scikit-learn, NLTK and Tensor Flow)</u></li>\n",
    "    <li>Data Visualization & Interaction <u>(Matplotlib, D3 and MplD3)</u></li>\n",
    "</ul>\n",
    "</div>"
   ]
  },
  {
   "cell_type": "markdown",
   "metadata": {},
   "source": [
    "<h1><center>Software (no programming needed) for Navigating the Data Cycle</center></h1>\n",
    "<div style=\"margin-left:100px;\">\n",
    "<ul>\n",
    "    <li>Data Extration <u>(ParseHub, Knime and Excel/Google Sheet)</u></li>\n",
    "    <li>Data Transformation <u>(Excel/Google Sheet, Knime and OpenRefine)</u></li> \n",
    "    <li>Data Loading <u>(Excel/Google Sheet, Knime and Airtable)</u></li>\n",
    "    <li>Data Exploration <u>(Excel/Google Sheet, Tableau, Knime and Google Data Studio)</u></li>\n",
    "    <li>Data Mining <u>(Excel/Google Sheet, Knime)</u></li>\n",
    "    <li>Data Visualization & Interaction <u>(Excel/Google Sheet, Tableau, Knime and Google Data Studio)</u></li>\n",
    "</ul>\n",
    "</div>"
   ]
  },
  {
   "cell_type": "markdown",
   "metadata": {
    "slideshow": {
     "slide_type": "slide"
    }
   },
   "source": [
    "<h1><center>Why Python?</center></h1>\n",
    "<div style=\"margin-left:100px;\">\n",
    "<ul>\n",
    "    <li>Simple syntax designed as a teaching language for learning Computer Science</li>\n",
    "    <li>Great language for learning about object oriented programming, a mordern programming approach</u></li>\n",
    "    <li>Vast support of programming libraries, especially for AI and data science works</li>\n",
    "    <li>Commercial adoptions have increased rapidly, providing plenty of job opportunities</li> \n",
    "    <li>Used by YouTube, Dropbox, Google, Instagram, Spotify, Reddit, Yahoo Maps, Pinterest, Washington Post, NASA, etc.</li>\n",
    "    <li>For web programming, like PHP and C#, Python is usually used for back-end processing.</li>\n",
    "</ul>\n",
    "</div>"
   ]
  },
  {
   "cell_type": "markdown",
   "metadata": {
    "slideshow": {
     "slide_type": "slide"
    }
   },
   "source": [
    "<h1><center>Revisit Front-end Processing</center></h1>\n",
    "<div style=\"margin-left:100px;\">\n",
    "<ul>\n",
    "    <li>For web development, most projects are divided by front-end and back-end processing.</li>\n",
    "    <li>Front-end is used for handling user interface</li>\n",
    "    <li>Back-end is used for handling data model computation and database processing</li>\n",
    "    <li>HTML,CSS, and JavaScript make up the <b>Big Three</b> of front-end web development</li> \n",
    "    <li>Web scraping depends on a deep understanding of front-end web publishing in HTML/CSS/JS for reversing the publishing flow to extract data from the published web pages</li>\n",
    "</ul>\n",
    "</div>"
   ]
  },
  {
   "cell_type": "markdown",
   "metadata": {
    "slideshow": {
     "slide_type": "slide"
    }
   },
   "source": [
    "<h1><center>Big Three in Web Publishing</center></h1>\n",
    "<img width='100%' height='100%'src='git_html_css.png'>"
   ]
  },
  {
   "cell_type": "markdown",
   "metadata": {
    "slideshow": {
     "slide_type": "slide"
    }
   },
   "source": [
    "<img width='100%' height='100%' src='html_as_a_noun.png'>"
   ]
  },
  {
   "cell_type": "markdown",
   "metadata": {
    "slideshow": {
     "slide_type": "slide"
    }
   },
   "source": [
    "<img width='100%' height='100%' src='dom.png'>"
   ]
  },
  {
   "cell_type": "markdown",
   "metadata": {
    "slideshow": {
     "slide_type": "slide"
    }
   },
   "source": [
    "<img width='100%' height='100%' src='html_code_view.png'>"
   ]
  },
  {
   "cell_type": "markdown",
   "metadata": {
    "slideshow": {
     "slide_type": "slide"
    }
   },
   "source": [
    "<h1><center>Try it out</center></h1>"
   ]
  },
  {
   "cell_type": "markdown",
   "metadata": {
    "slideshow": {
     "slide_type": "slide"
    }
   },
   "source": [
    "<h1><center>The Basic Grammer of HTML</center></h1>\n",
    "<div style=\"margin-left:100px;\">\n",
    "<ul>\n",
    "    <li>Starts with a start tag</li>\n",
    "    <li>End with an end tag</li>\n",
    "    <li>Content of element is everything between the start and end tags</li>\n",
    "    <li>Some elements have empty content and no end tag</li>\n",
    "    <li>Most elements have attributes</li>\n",
    "    <li>HTML adopts a tree structure called DOM</li>\n",
    "</div>"
   ]
  },
  {
   "cell_type": "markdown",
   "metadata": {
    "slideshow": {
     "slide_type": "slide"
    }
   },
   "source": [
    "<img width='100%' height='100%' src='css_as_adjective.png'>"
   ]
  },
  {
   "cell_type": "markdown",
   "metadata": {
    "slideshow": {
     "slide_type": "slide"
    }
   },
   "source": [
    "<img width='70%' height='70%' src='box_model.png'>"
   ]
  },
  {
   "cell_type": "markdown",
   "metadata": {
    "slideshow": {
     "slide_type": "slide"
    }
   },
   "source": [
    "<h1><center>CSS Inspection with Chrome</center></h1>\n",
    "<div style=\"margin-left:100px;\">\n",
    "<ul>\n",
    "    <li>Use right mouse button to trigger inspector</li>\n",
    "    <li>Select an element in the page to inspect</li>\n",
    "    <li>Traverse the DOM tree to inspect the hierarchy of elments</li>\n",
    "    <li>Observe the styles under the style tab at the lower right corner of the browser</li>\n",
    "    <li>May change the properties to observe impact on the layout</li>\n",
    "    <li>Changes will not be stored after the screen is refreshed</li>\n",
    "</div>"
   ]
  },
  {
   "cell_type": "markdown",
   "metadata": {
    "slideshow": {
     "slide_type": "slide"
    }
   },
   "source": [
    "<img width='100%' height='100%' src='custom_selector.png'>"
   ]
  },
  {
   "cell_type": "markdown",
   "metadata": {
    "slideshow": {
     "slide_type": "slide"
    }
   },
   "source": [
    "<img width='100%' height='100%' src='inline_css.png'>"
   ]
  },
  {
   "cell_type": "markdown",
   "metadata": {
    "slideshow": {
     "slide_type": "slide"
    }
   },
   "source": [
    "<h1><center>Try it out</center></h1>"
   ]
  },
  {
   "cell_type": "markdown",
   "metadata": {
    "slideshow": {
     "slide_type": "slide"
    }
   },
   "source": [
    "<img width='100%' height='100%' src='internal_css.png'>"
   ]
  },
  {
   "cell_type": "markdown",
   "metadata": {
    "slideshow": {
     "slide_type": "slide"
    }
   },
   "source": [
    "<h1><center>Try it out</center></h1>"
   ]
  },
  {
   "cell_type": "markdown",
   "metadata": {
    "slideshow": {
     "slide_type": "slide"
    }
   },
   "source": [
    "<img width='100%' height='100%' src='external_css_1.png'>"
   ]
  },
  {
   "cell_type": "markdown",
   "metadata": {
    "slideshow": {
     "slide_type": "slide"
    }
   },
   "source": [
    "<h1><center>Try it out</center></h1>"
   ]
  },
  {
   "cell_type": "markdown",
   "metadata": {
    "slideshow": {
     "slide_type": "slide"
    }
   },
   "source": [
    "<img width='100%' height='100%' src='external_css_2.png'>"
   ]
  },
  {
   "cell_type": "markdown",
   "metadata": {
    "slideshow": {
     "slide_type": "slide"
    }
   },
   "source": [
    "<h1><center>Try it out</center></h1>"
   ]
  },
  {
   "cell_type": "markdown",
   "metadata": {
    "slideshow": {
     "slide_type": "slide"
    }
   },
   "source": [
    "<h1><center>The Basic Grammer of CSS</center></h1>\n",
    "<div style=\"margin-left:100px;\">\n",
    "<ul>\n",
    "    <li>Styles define how to display HTML elements</li>\n",
    "    <li>Each style description is made up of Selector and Declaration</li>\n",
    "    <li>Selector defines which HTML element should be used for display and the declaration defines how\n",
    "each declaration contains properties and values</li>\n",
    "    <li>There are base and custom selectors (ID and CLASS are customer selectors) \n",
    "    <li>Style definition can be placed inline, in the head section or in an external file (e.g. style.css) </li>\n",
    "</div>"
   ]
  },
  {
   "cell_type": "markdown",
   "metadata": {
    "slideshow": {
     "slide_type": "slide"
    }
   },
   "source": [
    "<img width='100%' height='100%' src='js_as_verb.png'>"
   ]
  },
  {
   "cell_type": "markdown",
   "metadata": {
    "slideshow": {
     "slide_type": "slide"
    }
   },
   "source": [
    "<img width='100%' height='100%' src='internal_js.png'>"
   ]
  },
  {
   "cell_type": "markdown",
   "metadata": {
    "slideshow": {
     "slide_type": "slide"
    }
   },
   "source": [
    "<h1><center>Try it out</center></h1>"
   ]
  },
  {
   "cell_type": "markdown",
   "metadata": {
    "slideshow": {
     "slide_type": "slide"
    }
   },
   "source": [
    "<img width='100%' height='100%' src='external_js.png'>"
   ]
  },
  {
   "cell_type": "markdown",
   "metadata": {
    "slideshow": {
     "slide_type": "slide"
    }
   },
   "source": [
    "<h1><center>Try it out</center></h1>"
   ]
  },
  {
   "cell_type": "markdown",
   "metadata": {
    "slideshow": {
     "slide_type": "slide"
    }
   },
   "source": [
    "<h1><center>Python Development with Anaconda and Jupyter Notebook</center></h1>\n",
    "<div style=\"margin-left:100px;\">\n",
    "<ul>\n",
    "    <li>Why Anaconda?</li>\n",
    "    <li>Most of the popular Python libraries such as BeautifulSoup, NumPy, Pandas, Mathplotlib are preinstalled</li>\n",
    "    <li>Other additional software tools such as R Studio, JupyterLab, Jupyter Notebook are also preinstalled</li>\n",
    "    <li>Cross-platform support on Mac, Windows, and Linux</li>\n",
    "    <li>Jupyter Notebook is a great tool for learning Python</li>\n",
    "    <li>Jupyter Notebook supports HTML/CSS and LaTex markup syntax</li>\n",
    "    <li>Jupyter Notebook supports slideshow presentation</li>\n",
    "    <li>Github support for Jupyter notebook document</li>\n",
    "</div>"
   ]
  },
  {
   "cell_type": "markdown",
   "metadata": {
    "slideshow": {
     "slide_type": "slide"
    }
   },
   "source": [
    "<h1><center>HTML/CSS Demonstration</center></h1>\n",
    "<div style=\"margin-left:100px;\">\n",
    "To show the following effect, make sure \"markdown\" is chosen for rendering in Jupyter Notebook and then type:<br><br>\n",
    "<div style=\"margin-left:100px;\">\n",
    "<div style=\"margin-left:100px;\">&lt;div style=\"color:red;\"&gt;Word in Red&lt;/div&gt;, then you see:</div><br>\n",
    "    <div style=\"margin-left:100px;\"><div style=\"color:red;\">Word in Red</div></div>\n",
    "<div style=\"margin-left:100px;\"></div>\n",
    "</div>"
   ]
  },
  {
   "cell_type": "markdown",
   "metadata": {
    "slideshow": {
     "slide_type": "slide"
    }
   },
   "source": [
    "<h1><center>Try it out</center></h1>"
   ]
  },
  {
   "cell_type": "markdown",
   "metadata": {
    "slideshow": {
     "slide_type": "slide"
    }
   },
   "source": [
    "<h1><center>Latex Demonstration</center></h1>\n",
    "<div style=\"margin-left:100px;\">\n",
    "To show the following formula, make sure \"markdown\" is chosen for rendering in and then type:<br><br>\n",
    "<div style=\"margin-left:100px;\">&#92;begin{equation*}</div>\n",
    "<div style=\"margin-left:100px;\">s = \\sqrt \\frac{\\sum_{k=1}^n\\left(x-\\overline{x}\\right)^2}{n}</div>\n",
    "<div style=\"margin-left:100px;\">&#92;end{equation*}</div>\n",
    "</div>\n",
    "\n",
    "\\begin{equation*}\n",
    "s = \\sqrt \\frac{\\sum_{k=1}^n\\left(x-\\overline{x}\\right)^2}{n} \n",
    "\\end{equation*}"
   ]
  },
  {
   "cell_type": "markdown",
   "metadata": {
    "slideshow": {
     "slide_type": "slide"
    }
   },
   "source": [
    "<h1><center>Running Jupyter Notebook in Slideshow Mode</center></h1>\n",
    "<div style=\"margin-left:100px;\">\n",
    " At the command prompt, type the following:<br><br><br>\n",
    "        <div style=\"font-size:20px;\"><center>jupyter nbconvert &lt;your Jupyter Notebook file name&gt;.ipynb --to slides --post serve</center></div>\n",
    "    <br><br><br>\n",
    "</div>"
   ]
  },
  {
   "cell_type": "markdown",
   "metadata": {
    "slideshow": {
     "slide_type": "slide"
    }
   },
   "source": [
    "<h1><center>Try it out</center></h1>"
   ]
  },
  {
   "cell_type": "markdown",
   "metadata": {
    "slideshow": {
     "slide_type": "slide"
    }
   },
   "source": [
    "<h1><center>Basic Data Types in Python</center></h1>\n",
    "<div style=\"margin-left:100px;\">\n",
    "<ul>\n",
    "    <li>Integer</li>\n",
    "    <li>Float</li>\n",
    "    <li>String</li>\n",
    "    <li>Boolean</li>\n",
    "</ul>\n",
    "</div>"
   ]
  },
  {
   "cell_type": "markdown",
   "metadata": {
    "slideshow": {
     "slide_type": "slide"
    }
   },
   "source": [
    "<h1><center>Integer</center></h1>\n",
    "<div style=\"margin-left:100px;\">\n",
    "To show the result of your code, make sure \"code\" display option is chosen instead of the \"markdown\" option for rendering in Jupyter Notebook and then type:<br>\n",
    "<br>\n",
    "<ol>\n",
    "    <li>Press the \"+\" button on the button toolbar to create a new In-box</li>\n",
    "    <li>Enter 123</li>\n",
    "    <li>Hit \"Run\" on the button toolbar to execute your code.</li>\n",
    "    <li>Press the \"+\" button on the button toolbar to create a new In-box</li>\n",
    "    <li>Enter type(123)</li>\n",
    "    <li>Hit \"Run\" on the button toolbar to execute your code</li>\n",
    "    <li>See what you've got</li>\n",
    "</ol>\n",
    "</div>"
   ]
  },
  {
   "cell_type": "code",
   "execution_count": 7,
   "metadata": {},
   "outputs": [
    {
     "data": {
      "text/plain": [
       "str"
      ]
     },
     "execution_count": 7,
     "metadata": {},
     "output_type": "execute_result"
    }
   ],
   "source": [
    "type('123.45')"
   ]
  },
  {
   "cell_type": "markdown",
   "metadata": {
    "slideshow": {
     "slide_type": "slide"
    }
   },
   "source": [
    "<h1><center>Try it out</center></h1>"
   ]
  },
  {
   "cell_type": "markdown",
   "metadata": {
    "slideshow": {
     "slide_type": "slide"
    }
   },
   "source": [
    "<h1><center>Float</center></h1>\n",
    "<div style=\"margin-left:100px;\">\n",
    "To show the result of your code, make sure \"code\" display option is chosen instead of the \"markdown\" option for rendering in Jupyter Notebook and then type:<br>\n",
    "<br>\n",
    "<ol>\n",
    "    <li>Press the \"+\" button on the button toolbar to create a new In-box</li>\n",
    "    <li>Enter 123.45</li>\n",
    "    <li>Hit \"Run\" on the button toolbar to execute your code.</li>\n",
    "    <li>Press the \"+\" button on the button toolbar to create a new In-box</li>\n",
    "    <li>Enter type(123.45)</li>\n",
    "    <li>Hit \"Run\" on the button toolbar to execute your code</li>\n",
    "    <li>See what you've got</li>\n",
    "</ol>\n",
    "</div>"
   ]
  },
  {
   "cell_type": "markdown",
   "metadata": {
    "slideshow": {
     "slide_type": "slide"
    }
   },
   "source": [
    "<h1><center>Try it out</center></h1>"
   ]
  },
  {
   "cell_type": "markdown",
   "metadata": {
    "slideshow": {
     "slide_type": "slide"
    }
   },
   "source": [
    "<h1><center>String</center></h1>\n",
    "<div style=\"margin-left:100px;\">\n",
    "To show the result of your code, make sure \"code\" display option is chosen instead of the \"markdown\" option for rendering in Jupyter Notebook and then type:<br>\n",
    "<br>\n",
    "<ol>\n",
    "    <li>Press the \"+\" button on the button toolbar to create a new In-box</li>\n",
    "    <li>Enter '123.45'</li>\n",
    "    <li>Hit \"Run\" on the button toolbar to execute your code.</li>\n",
    "    <li>Press the \"+\" button on the button toolbar to create a new In-box</li>\n",
    "    <li>Enter type('123.45')</li>\n",
    "    <li>Hit \"Run\" on the button toolbar to execute your code</li>\n",
    "    <li>See what you've got</li>\n",
    "</ol>\n",
    "</div>"
   ]
  },
  {
   "cell_type": "markdown",
   "metadata": {
    "slideshow": {
     "slide_type": "slide"
    }
   },
   "source": [
    "<h1><center>Try it out</center></h1>"
   ]
  },
  {
   "cell_type": "markdown",
   "metadata": {
    "slideshow": {
     "slide_type": "slide"
    }
   },
   "source": [
    "<h1><center>Assign Data Type to Variables</center></h1>\n",
    "<div style=\"margin-left:100px;\">\n",
    "To show the result of your code, make sure \"code\" display option is chosen instead of the \"markdown\" option for rendering in Jupyter Notebook and then type:<br>\n",
    "<br>\n",
    "<ol>\n",
    "    <li>Press the \"+\" button on the button toolbar to create a new In-box</li>\n",
    "    <li>Enter 'x = 123'</li>\n",
    "    <li>Enter 'y = 123.45</li>\n",
    "    <li>Enter 'z = '123.45'</li>\n",
    "    <li>Enter 'print(x,y,z)</li>\n",
    "    <li>By the way, the command \"print\" is a built-in function in Python</li>\n",
    "    <li>Enter 'print(type(x),type(y),type(z))'. </li>\n",
    "    <li>Hit \"Run\" on the button toolbar to execute your code</li>\n",
    "    <li>See what you've got</li>\n",
    "</ol>\n",
    "</div>"
   ]
  },
  {
   "cell_type": "code",
   "execution_count": 9,
   "metadata": {},
   "outputs": [
    {
     "name": "stdout",
     "output_type": "stream",
     "text": [
      "123 123.45 123.45\n",
      "<class 'int'> <class 'float'> <class 'str'>\n"
     ]
    }
   ],
   "source": [
    "x = 123\n",
    "y = 123.45\n",
    "z = '123.45'\n",
    "print(x,y,z)\n",
    "print(type(x),type(y),type(z))"
   ]
  },
  {
   "cell_type": "markdown",
   "metadata": {
    "slideshow": {
     "slide_type": "slide"
    }
   },
   "source": [
    "<h1><center>Try it out</center></h1>"
   ]
  },
  {
   "cell_type": "markdown",
   "metadata": {
    "slideshow": {
     "slide_type": "slide"
    }
   },
   "source": [
    "<h1><center>Boolean</center></h1>\n",
    "<div style=\"margin-left:100px;\">\n",
    "To show the result of your code, make sure \"code\" display option is chosen instead of the \"markdown\" option for rendering in Jupyter Notebook and then type:<br>\n",
    "<br>\n",
    "<ol>\n",
    "    <li>Press the \"+\" button on the button toolbar to create a new In-box</li>\n",
    "    <li>Enter 'sign_up = True'</li>\n",
    "    <li>Enter type(type(sign_up)</li>\n",
    "    <li>Hit \"Run\" on the button toolbar to execute your code</li>\n",
    "    <li>See what you've got</li>\n",
    "</ol>\n",
    "</div>"
   ]
  },
  {
   "cell_type": "code",
   "execution_count": 10,
   "metadata": {},
   "outputs": [
    {
     "name": "stdout",
     "output_type": "stream",
     "text": [
      "<class 'bool'>\n"
     ]
    }
   ],
   "source": [
    "sign_up = True\n",
    "print(type(sign_up))"
   ]
  },
  {
   "cell_type": "markdown",
   "metadata": {
    "slideshow": {
     "slide_type": "slide"
    }
   },
   "source": [
    "<h1><center>Try it out</center></h1>"
   ]
  },
  {
   "cell_type": "markdown",
   "metadata": {
    "slideshow": {
     "slide_type": "slide"
    }
   },
   "source": [
    "<h1><center>More on Expressions and Variables</center></h1>\n",
    "<div style=\"margin-left:100px;\">\n",
    "To show the result of your code, make sure \"code\" display option is chosen instead of the \"markdown\" option for rendering in Jupyter Notebook and then type:<br>\n",
    "<br>\n",
    "<ol>\n",
    "    <li>Expressions are made up of mathematical operations</li>\n",
    "    <ul>\n",
    "        <li>Addition +</li>\n",
    "        <li>Subtraction -</li>\n",
    "        <li>Multiplication *</li>\n",
    "        <li>Division /</li>\n",
    "        <li>Rounded division //</li>\n",
    "        <li>Exponent **</li>\n",
    "        <li>Modulus % (division returns remainder)</li>\n",
    "    </ul>\n",
    "    <li>Variables (used for storing values)</li>\n",
    "    <ul>\n",
    "        <li>x = 123</li>\n",
    "        <li>y = 123.45</li>\n",
    "        <li>z = '123.45'</li>\n",
    "        <li>What is the result of adding x + y\n",
    "    </ul>\n",
    "</ol>\n",
    "</div>"
   ]
  },
  {
   "cell_type": "markdown",
   "metadata": {
    "slideshow": {
     "slide_type": "slide"
    }
   },
   "source": [
    "<h1><center>Try it out</center></h1>\n"
   ]
  },
  {
   "cell_type": "code",
   "execution_count": 18,
   "metadata": {
    "slideshow": {
     "slide_type": "slide"
    }
   },
   "outputs": [
    {
     "name": "stdout",
     "output_type": "stream",
     "text": [
      "<class 'str'>\n",
      "The result of 123 + 123.45 = 246.45\n"
     ]
    }
   ],
   "source": [
    "x = 123\n",
    "y = 123.45\n",
    "z = 'The result of ' + str(x) + \" + \" + str(y) + \" = \" + str(x+y)\n",
    "print(type(str(y)))\n",
    "print(z)"
   ]
  },
  {
   "cell_type": "markdown",
   "metadata": {
    "slideshow": {
     "slide_type": "slide"
    }
   },
   "source": [
    "<h1><center>More on String</center></h1>\n",
    "<div style=\"margin-left:100px;\">\n",
    "To show the result of your code, make sure \"code\" display option is chosen instead of the \"markdown\" option for rendering in Jupyter Notebook and then type:<br>\n",
    "<br>\n",
    "<ol>\n",
    "    <li>The concept of an \"index\": position of each character in the string</li>\n",
    "    <li>The first position is always \"0\"</li>\n",
    "    <li>Notation of the index is expressed as:string_var[beginning position:ending position]</li>\n",
    "    <li>The ending position is not included\n",
    "    <li>The len(string_var) function will return the length of the string</li>\n",
    "    <li>Let's say z = \"I am from CUHK.\"</li>\n",
    "    <li>What will the command print(z[1:4]) return?</li>\n",
    "    <li>How can you print out the entire string using the index</li> \n",
    "    <li>Negative index starts from the end of the string e.g. name[-1:] </li>\n",
    "</ol>\n",
    "</div>"
   ]
  },
  {
   "cell_type": "markdown",
   "metadata": {
    "slideshow": {
     "slide_type": "slide"
    }
   },
   "source": [
    "<h1><center>Try it out</center></h1>"
   ]
  },
  {
   "cell_type": "code",
   "execution_count": 28,
   "metadata": {},
   "outputs": [
    {
     "name": "stdout",
     "output_type": "stream",
     "text": [
      "I am\n",
      "I am from CUHK.\n",
      "HK.\n"
     ]
    }
   ],
   "source": [
    "z = \"I am from CUHK.\"\n",
    "print(z[0:4])\n",
    "print(z[0:15])\n",
    "print (z[-3:])"
   ]
  },
  {
   "cell_type": "code",
   "execution_count": 29,
   "metadata": {
    "slideshow": {
     "slide_type": "slide"
    }
   },
   "outputs": [
    {
     "name": "stdout",
     "output_type": "stream",
     "text": [
      "15\n",
      "I am from CUHK\n",
      "HK.\n",
      "CUHK\n"
     ]
    }
   ],
   "source": [
    "z = \"I am from CUHK.\"\n",
    "print(len(z))\n",
    "print(z[0:14])\n",
    "print(z[-3:])\n",
    "print(z[10:14])"
   ]
  },
  {
   "cell_type": "markdown",
   "metadata": {
    "slideshow": {
     "slide_type": "slide"
    }
   },
   "source": [
    "<h1><center>Useful String Functions</center></h1>\n",
    "<div style=\"margin-left:100px;\">\n",
    "To show the result of your code, make sure \"code\" display option is chosen instead of the \"markdown\" option for rendering in Jupyter Notebook and then type:<br>\n",
    "<br>\n",
    "<ol>\n",
    "    <li>name.upper()</li>\n",
    "    <li>name.replace(destination,source)</li>\n",
    "    <li>name.find(destination)</li>\n",
    "    <li>name.split()</li>\n",
    "    <li>name.count(target)</li>\n",
    "</ol>\n",
    "</div>"
   ]
  },
  {
   "cell_type": "code",
   "execution_count": 41,
   "metadata": {},
   "outputs": [
    {
     "name": "stdout",
     "output_type": "stream",
     "text": [
      "Prince Charles\n",
      "Prince Charles Prince Harry\n",
      "['Prince', 'Charles']\n",
      "2\n"
     ]
    }
   ],
   "source": [
    "famous_person = \"Prince Charles\"\n",
    "print(famous_person)\n",
    "famous_person2 = famous_person.replace(\"Charles\",\"Harry\")\n",
    "print(famous_person, famous_person2)\n",
    "print(famous_person.split())\n",
    "print(famous_person.count(\"e\"))"
   ]
  },
  {
   "cell_type": "markdown",
   "metadata": {
    "slideshow": {
     "slide_type": "slide"
    }
   },
   "source": [
    "<h1><center>Try it out</center></h1>"
   ]
  },
  {
   "cell_type": "code",
   "execution_count": 95,
   "metadata": {
    "slideshow": {
     "slide_type": "slide"
    }
   },
   "outputs": [
    {
     "name": "stdout",
     "output_type": "stream",
     "text": [
      "Prince Charles\n",
      "PRINCE WILLIAM\n",
      "-1\n",
      "7\n"
     ]
    }
   ],
   "source": [
    "name = \"Prince Charles\"\n",
    "print(name)\n",
    "name = name.replace(\"Charles\",\"William\")\n",
    "name = name.upper()\n",
    "print(name)\n",
    "print(name.find(\"Charles\"))\n",
    "print(name.find(\"WILLIAM\"))"
   ]
  },
  {
   "cell_type": "code",
   "execution_count": 19,
   "metadata": {},
   "outputs": [
    {
     "name": "stdout",
     "output_type": "stream",
     "text": [
      "1st Prince Position:0\n",
      "2nd Prince Position:19\n",
      "Prince Harry\n"
     ]
    }
   ],
   "source": [
    "names = \"Prince Charles and Prince Harry\"\n",
    "first_prince_position = names.find(\"Prince\")\n",
    "print(\"1st Prince Position:\"+str(first_prince_position))\n",
    "second_prince_position = names.find(\"Prince\",first_prince_position+1)\n",
    "print(\"2nd Prince Position:\"+str(second_prince_position))\n",
    "son_of_charles = names[second_prince_position:]\n",
    "print(son_of_charles)"
   ]
  },
  {
   "cell_type": "code",
   "execution_count": 32,
   "metadata": {},
   "outputs": [
    {
     "name": "stdout",
     "output_type": "stream",
     "text": [
      "3.14\n"
     ]
    },
    {
     "data": {
      "text/plain": [
       "str"
      ]
     },
     "execution_count": 32,
     "metadata": {},
     "output_type": "execute_result"
    }
   ],
   "source": [
    "# str(x) function will convert integer and float into a string\n",
    "x = 3.14\n",
    "y = str(x)\n",
    "print(y)\n",
    "type(y)"
   ]
  },
  {
   "cell_type": "code",
   "execution_count": 41,
   "metadata": {},
   "outputs": [
    {
     "name": "stdout",
     "output_type": "stream",
     "text": [
      "3.14\n",
      "3\n",
      "<class 'float'>\n",
      "<class 'int'>\n"
     ]
    }
   ],
   "source": [
    "# float(x) function will convert a string with decimal point into a float\n",
    "x = 3.14\n",
    "y = str(x)\n",
    "z1 = float(y)\n",
    "print(z1)\n",
    "z2 = int(y[0:y.find(\".\")])\n",
    "print(z2)\n",
    "print(type(z1))\n",
    "print(type(z2))"
   ]
  },
  {
   "cell_type": "code",
   "execution_count": 24,
   "metadata": {},
   "outputs": [
    {
     "name": "stdout",
     "output_type": "stream",
     "text": [
      "274\n"
     ]
    }
   ],
   "source": [
    "# Create a rounding function\n",
    "x = 273.87127\n",
    "pos = str(x).find(\".\")+1\n",
    "val = str(x)[pos:pos+1]\n",
    "if (int(val) >= 5):\n",
    "    print(str(x+1)[0:pos-1])\n",
    "else:\n",
    "    print(str(x)[0:pos-1])"
   ]
  },
  {
   "cell_type": "code",
   "execution_count": 30,
   "metadata": {},
   "outputs": [
    {
     "name": "stdout",
     "output_type": "stream",
     "text": [
      "273\n"
     ]
    }
   ],
   "source": [
    "# Another way to implement a rounding function\n",
    "x = 273.47127\n",
    "pos = str(str_x).find('.')+1\n",
    "val = str(x)[pos:pos+1]\n",
    "if (val in \"1234\"):\n",
    "    x = x\n",
    "else:\n",
    "    x = x + 1\n",
    "print(str(x)[0:pos-1])"
   ]
  },
  {
   "cell_type": "markdown",
   "metadata": {
    "slideshow": {
     "slide_type": "slide"
    }
   },
   "source": [
    "<h1><center>Basic Data Structures in Python</center></h1>\n",
    "<div style=\"margin-left:100px;\">\n",
    "<ul>\n",
    "    <li>List and Tuple</li>\n",
    "    <li>Dictionary and Set</li>\n",
    "</ul>\n",
    "</div>"
   ]
  },
  {
   "cell_type": "markdown",
   "metadata": {
    "slideshow": {
     "slide_type": "slide"
    }
   },
   "source": [
    "<h1><center>Tuple and List</center></h1>\n",
    "<div style=\"margin-left:100px;\">\n",
    "<ul>\n",
    "        <li>Tuples are arrays enclosed with round brackets for storing multiple variables</li>\n",
    "        <li>Variables with data types can be stored into a Tuple</li>\n",
    "        <li>A Tuple operates like a string and therefore can be indexed from the beginning (positive) and the end (negative)</li>\n",
    "        <li>Tuples are immutable</li>\n",
    "        <li>Inorder to manipulate a tuple, a new one has to be created</li>\n",
    "        <li>Tuples can be nested e.g. Tuple2 = (1,2,(3,4),5)</li>\n",
    "        <li>Due to its rigidity, List is more commonly used than Tuple.</li>\n",
    "        <li>Lists are like Tubles but are mutable and enclosed with square brackets</li>\n",
    "        <li>List, similar to a Tuple, operates like a string when it comes to access individual element within the data structure</li>\n",
    "</ul>\n",
    "</div>"
   ]
  },
  {
   "cell_type": "code",
   "execution_count": 38,
   "metadata": {},
   "outputs": [
    {
     "name": "stdout",
     "output_type": "stream",
     "text": [
      "(1, 1.3, 2, 'CUHK')\n",
      "[1, 1.3, 2, 'CUHK']\n"
     ]
    }
   ],
   "source": [
    "tuple1 = (1,1.3,2,'CUHK') \n",
    "print(tuple1)\n",
    "list1 = [1,1.3,2,'CUHK']\n",
    "print(list1)"
   ]
  },
  {
   "cell_type": "markdown",
   "metadata": {
    "slideshow": {
     "slide_type": "slide"
    }
   },
   "source": [
    "<h1><center>Try it out</center></h1>"
   ]
  },
  {
   "cell_type": "code",
   "execution_count": 57,
   "metadata": {},
   "outputs": [
    {
     "name": "stdout",
     "output_type": "stream",
     "text": [
      "[1, 2, 2.5, 3, 4, 5]\n",
      "[1, 2, 3, 4, 5, 2.5]\n",
      "[1, 2, 3, 4, 5, 2.5, 6, 7, 8]\n",
      "[1, 2, 3, 4, 5, 2.5, 6, 7, 8, [9, 10, 11]]\n",
      "[1, 2, 3, 4, 5, 2.5, 6, 7, 8]\n"
     ]
    }
   ],
   "source": [
    "my_list = [1,2,3,4,5,2.5]\n",
    "print(sorted(my_list))\n",
    "print(my_list)\n",
    "my_list = my_list + [6,7,8]\n",
    "print(my_list)\n",
    "my_list.append([9,10,11])\n",
    "print(my_list)\n",
    "del(my_list[9])\n",
    "print(my_list)"
   ]
  },
  {
   "cell_type": "code",
   "execution_count": 60,
   "metadata": {},
   "outputs": [
    {
     "name": "stdout",
     "output_type": "stream",
     "text": [
      "[100, 95, 85, 60, 60.5, 70]\n",
      "60\n",
      "[100, 95, 85, 60, 60.5, 70, [50, 45, 65, 55]]\n",
      "[60, 60.5, 70]\n",
      "[100, 95, 85, 60, 60.5, 70]\n",
      "[100, 95, 85, 60, 60.5, 70, [1, 2, 3, 'I am from CUHK.', True]]\n",
      "[100, 95, 85, 60, 60.5, 70, [1, 2, 3, 'I am from CUHK.', True], [11, 22, 33, [44, 55, 66]]]\n"
     ]
    }
   ],
   "source": [
    "score_list = [100,95,85,60,60.5,70]\n",
    "print(score_list)\n",
    "print(score_list[3])\n",
    "score_list.append([50,45,65,55])\n",
    "print(score_list)\n",
    "del(score_list[6])\n",
    "print(score_list[3:7])\n",
    "print(score_list)\n",
    "score_list.append([1,2,3,\"I am from CUHK.\",True])\n",
    "print(score_list)\n",
    "second_list = [11,22,33]\n",
    "second_list.append([44,55,66])\n",
    "score_list.append(second_list)\n",
    "print(score_list)"
   ]
  },
  {
   "cell_type": "markdown",
   "metadata": {},
   "source": [
    "<h1><center>Try it out</center></h1>"
   ]
  },
  {
   "cell_type": "markdown",
   "metadata": {
    "slideshow": {
     "slide_type": "slide"
    }
   },
   "source": [
    "<h1><center>Set and Dictionary</center></h1>\n",
    "<div style=\"margin-left:100px;\">\n",
    "<ul>\n",
    "        <li>Similar to lists and tuples, sets support different Python types</li>\n",
    "        <li>Sets use {} (braces) to embed values/elements</li>\n",
    "        <li>Sets do not allow duplicates</li>\n",
    "        <li>Lists can be converted into sets with the set function</li>\n",
    "        <li>Dictionary store data in an array of key-value pairs in braces</li>\n",
    "        <li>For instance, here is a dictionary instance: dict = {“key1”:1,”key2”:2,”key3”:3}\n",
    "</li>\n",
    "        <li>1st column representing the key and 2nd column representing the value</li>\n",
    "        <li><dict_name>.keys() returns all the keys</li>\n",
    "        <li><dict_name>.values.() returns all the values\n",
    "</ul>\n",
    "</div>"
   ]
  },
  {
   "cell_type": "code",
   "execution_count": 65,
   "metadata": {},
   "outputs": [
    {
     "name": "stdout",
     "output_type": "stream",
     "text": [
      "{'Peter': 80, 'David': 90, 'Mary': 100}\n",
      "dict_keys(['Peter', 'David', 'Mary'])\n",
      "dict_values([80, 90, 100])\n",
      "90\n",
      "[{'Peter': 80, 'David': 90, 'Mary': 100}]\n"
     ]
    }
   ],
   "source": [
    "dict1 = {'Peter':80,\"David\":90,\"Mary\":100}\n",
    "print(dict1)\n",
    "print(dict1.keys())\n",
    "print(dict1.values())\n",
    "print(dict1[\"David\"])\n",
    "scorelist = []\n",
    "scorelist.append(dict1)\n",
    "print(scorelist)"
   ]
  },
  {
   "cell_type": "code",
   "execution_count": 68,
   "metadata": {},
   "outputs": [
    {
     "name": "stdout",
     "output_type": "stream",
     "text": [
      "[{'Peter': 50, 'David': 60, 'Mary': 70}, {'Peter': 50, 'David': 70, 'Mary': 80}]\n"
     ]
    }
   ],
   "source": [
    "test1 = {\"Peter\":50,\"David\":60,\"Mary\":70}\n",
    "assignment1 = {\"Peter\":50,\"David\":70,\"Mary\":80}\n",
    "score_list = []\n",
    "score_list.append(test1)\n",
    "score_list.append(assignment1)\n",
    "print(score_list)"
   ]
  },
  {
   "cell_type": "markdown",
   "metadata": {
    "slideshow": {
     "slide_type": "slide"
    }
   },
   "source": [
    "<h1><center>Try it out</center></h1>"
   ]
  },
  {
   "cell_type": "markdown",
   "metadata": {
    "slideshow": {
     "slide_type": "slide"
    }
   },
   "source": [
    "<h1><center>Basic Operations in Python</center></h1>\n",
    "<div style=\"margin-left:100px;\">\n",
    "<ul>\n",
    "    <li>Variable Assignment</li>\n",
    "    <li>Mathematical Operations</li>\n",
    "    <li>Functional Decomposition and Abstraction</li>\n",
    "    <li>Logical Operations</li>\n",
    "    <li>Looping Operations</li>\n",
    "</ul>\n",
    "</div>"
   ]
  },
  {
   "cell_type": "markdown",
   "metadata": {
    "slideshow": {
     "slide_type": "slide"
    }
   },
   "source": [
    "<h1><center>Try it out</center></h1>"
   ]
  },
  {
   "cell_type": "code",
   "execution_count": 74,
   "metadata": {},
   "outputs": [
    {
     "name": "stdout",
     "output_type": "stream",
     "text": [
      "[{'Peter': 50, 'David': 60, 'Mary': 65, 'Harry': 80}, {'Peter': 90, 'David': 90, 'Mary': 85, 'Harry': 70}]\n"
     ]
    }
   ],
   "source": [
    "scorelist = []\n",
    "test1 = {\"Peter\":50,\"David\":60,\"Mary\":65,\"Harry\":80}\n",
    "test2 = {\"Peter\":90,\"David\":90,\"Mary\":85,\"Harry\":70}\n",
    "scorelist.append(test1)\n",
    "scorelist.append(test2)\n",
    "print(scorelist)"
   ]
  },
  {
   "cell_type": "markdown",
   "metadata": {
    "slideshow": {
     "slide_type": "slide"
    }
   },
   "source": [
    "<h1><center>Looping Operations</center></h1>\n",
    "<div style=\"margin-left:100px;\">"
   ]
  },
  {
   "cell_type": "code",
   "execution_count": 13,
   "metadata": {},
   "outputs": [
    {
     "name": "stdout",
     "output_type": "stream",
     "text": [
      "1\n",
      "2\n",
      "3\n",
      "4\n",
      "5\n",
      "6\n",
      "7\n",
      "8\n",
      "9\n"
     ]
    }
   ],
   "source": [
    "i = 1\n",
    "for i in range(1,10):\n",
    "    print(i)"
   ]
  },
  {
   "cell_type": "markdown",
   "metadata": {},
   "source": [
    "<h1><center>Try it out</center></h1>"
   ]
  },
  {
   "cell_type": "code",
   "execution_count": 166,
   "metadata": {},
   "outputs": [
    {
     "name": "stdout",
     "output_type": "stream",
     "text": [
      "John makes 1950.0.\n",
      "Mike makes 3000.0.\n",
      "Mary makes 3250.0.\n",
      "Jane makes 4500.0.\n",
      "[['John', 'Mike', 'Mary', 'Jane'], [1950.0, 3000.0, 3250.0, 4500.0]]\n"
     ]
    }
   ],
   "source": [
    "hrs_list = [30.0,40.0,50.0,60.0]\n",
    "rate_list = [65.0,75.0,65.0,75.0]\n",
    "name_list = ['John',\"Mike\",\"Mary\",\"Jane\"]\n",
    "index = 0\n",
    "fee_list = []\n",
    "for number in name_list:\n",
    "        hrs = hrs_list[index]\n",
    "        rate = rate_list[index]\n",
    "        fee = hrs * rate\n",
    "        fee_list.append(fee)\n",
    "        money_made = name_list[index] + \" makes \" + str(fee) + \".\"\n",
    "        print(money_made)  \n",
    "        index = index + 1\n",
    "money_list = []\n",
    "money_list.append(name_list)\n",
    "money_list.append(fee_list)\n",
    "print(money_list)"
   ]
  },
  {
   "cell_type": "markdown",
   "metadata": {},
   "source": [
    "<h1><center>Try it out</center></h1>"
   ]
  },
  {
   "cell_type": "code",
   "execution_count": 5,
   "metadata": {
    "collapsed": true
   },
   "outputs": [
    {
     "name": "stdout",
     "output_type": "stream",
     "text": [
      "John makes 1950.0.\n",
      "Mike makes 3000.0.\n",
      "Mary makes 3250.0.\n",
      "Jane makes 4500.0.\n",
      "[['John', 'Mike', 'Mary', 'Jane'], [1950.0, 3000.0, 3250.0, 4500.0]]\n"
     ]
    }
   ],
   "source": [
    "hrs_list = [30.0,40.0,50.0,60.0]\n",
    "rate_list = [65.0,75.0,65.0,75.0]\n",
    "name_list = ['John',\"Mike\",\"Mary\",\"Jane\"]\n",
    "fee_list = []\n",
    "for number in range(len(name_list)):\n",
    "        hrs = hrs_list[number]\n",
    "        rate = rate_list[number]\n",
    "        fee = hrs * rate\n",
    "        fee_list.append(fee)\n",
    "        money_made = name_list[number] + \" makes \" + str(fee) + \".\"\n",
    "        print(money_made)  \n",
    "money_list = []\n",
    "money_list.append(name_list)\n",
    "money_list.append(fee_list)\n",
    "print(money_list)"
   ]
  },
  {
   "cell_type": "markdown",
   "metadata": {},
   "source": [
    "<h1><center>Try it out</center></h1>"
   ]
  },
  {
   "cell_type": "code",
   "execution_count": 12,
   "metadata": {},
   "outputs": [
    {
     "name": "stdout",
     "output_type": "stream",
     "text": [
      "John makes 1950.0.\n",
      "Mike makes 3000.0.\n",
      "Mary makes 3250.0.\n",
      "Jane makes 4500.0.\n",
      "[['John', 'Mike', 'Mary', 'Jane'], [1950.0, 3000.0, 3250.0, 4500.0]]\n",
      "4\n"
     ]
    }
   ],
   "source": [
    "hrs_list = [30.0,40.0,50.0,60.0]\n",
    "rate_list = [65.0,75.0,65.0,75.0]\n",
    "name_list = ['John',\"Mike\",\"Mary\",\"Jane\"]\n",
    "fee_list = []\n",
    "number = 0\n",
    "while number < len(name_list):\n",
    "        hrs = hrs_list[number]\n",
    "        rate = rate_list[number]\n",
    "        fee = hrs * rate\n",
    "        fee_list.append(fee)\n",
    "        money_made = name_list[number] + \" makes \" + str(fee) + \".\"\n",
    "        print(money_made)  \n",
    "        number = number + 1\n",
    "money_list = []\n",
    "money_list.append(name_list)\n",
    "money_list.append(fee_list)\n",
    "print(money_list)\n",
    "print(len(name_list))"
   ]
  },
  {
   "cell_type": "code",
   "execution_count": 95,
   "metadata": {
    "slideshow": {
     "slide_type": "slide"
    }
   },
   "outputs": [
    {
     "name": "stdout",
     "output_type": "stream",
     "text": [
      "a apple\n",
      "b berry\n",
      "c cherry\n"
     ]
    }
   ],
   "source": [
    "d = {'a': 'apple', 'b': 'berry', 'c': 'cherry'}\n",
    "for key in d:\n",
    "  print(key, d[key])"
   ]
  },
  {
   "cell_type": "code",
   "execution_count": 180,
   "metadata": {},
   "outputs": [
    {
     "name": "stdout",
     "output_type": "stream",
     "text": [
      "John  makes 1950.0.\n",
      "Mike  makes 3000.0.\n",
      "Mary  makes 3250.0.\n",
      "Jane  makes 4500.0.\n"
     ]
    }
   ],
   "source": [
    "hrs_list = [30.0,40.0,50.0,60.0]\n",
    "rate_list = [65.0,75.0,65.0,75.0]\n",
    "name_list = ['John',\"Mike\",\"Mary\",\"Jane\"]\n",
    "hrs = {\"John\":30.0,\"Mike\":40,\"Mary\":50,\"Jane\":60}\n",
    "rates = {\"John\":65.0,\"Mike\":75.0,\"Mary\":65.0,\"Jane\":75.0}\n",
    "for i in name_list:\n",
    "    fees = hrs[i]* rates[i]\n",
    "    make_money = \" makes \" + str(fees) + \".\"\n",
    "    print(i,make_money)"
   ]
  },
  {
   "cell_type": "markdown",
   "metadata": {
    "slideshow": {
     "slide_type": "slide"
    }
   },
   "source": [
    "<h1><center>Conditional Operations</center></h1>\n",
    "<div style=\"margin-left:100px;\">"
   ]
  },
  {
   "cell_type": "code",
   "execution_count": 185,
   "metadata": {},
   "outputs": [
    {
     "name": "stdout",
     "output_type": "stream",
     "text": [
      "0 red\n",
      "1 green\n",
      "2 Blue is printed.\n",
      "3 orange\n",
      "4 black\n",
      "This is done.\n"
     ]
    }
   ],
   "source": [
    "my_list = ['red','green','blue','orange','black']\n",
    "index = 0\n",
    "for i in my_list:\n",
    "  if i == 'blue':\n",
    "    print(index, \"Blue is printed.\")\n",
    "    index += 1\n",
    "  else:\n",
    "    print(index, my_list[index])\n",
    "    # index += 1\n",
    "    index = index + 1\n",
    "print(\"This is done.\")  \n",
    " "
   ]
  },
  {
   "cell_type": "code",
   "execution_count": 189,
   "metadata": {},
   "outputs": [
    {
     "name": "stdout",
     "output_type": "stream",
     "text": [
      "Less than 3200\n",
      "  John  makes 1950.0.\n",
      "  Mike  makes 3000.0.\n",
      "More than or equal to 3200\n",
      "  Mary  makes 3250.0.\n",
      "  Jane  makes 4500.0.\n"
     ]
    }
   ],
   "source": [
    "hrs_list = [30.0,40.0,50.0,60.0]\n",
    "rate_list = [65.0,75.0,65.0,75.0]\n",
    "name_list = ['John',\"Mike\",\"Mary\",\"Jane\"]\n",
    "hrs = {\"John\":30.0,\"Mike\":40,\"Mary\":50,\"Jane\":60}\n",
    "rates = {\"John\":65.0,\"Mike\":75.0,\"Mary\":65.0,\"Jane\":75.0}\n",
    "less_than_3200 = False\n",
    "greater_equal_3200 = False\n",
    "for i in name_list:\n",
    "    fees = hrs[i]* rates[i]\n",
    "    make_money = \" makes \" + str(fees) + \".\"\n",
    "    if (fees < 3200.0):\n",
    "        if (less_than_3200 == False):\n",
    "            print(\"Less than 3200\")\n",
    "            less_than_3200 = True\n",
    "        print(\" \",i,make_money)\n",
    "    else:\n",
    "        if (greater_equal_3200 == False):\n",
    "            print(\"More than or equal to 3200\")\n",
    "            greater_equal_3200 = True\n",
    "        print(\" \",i,make_money)"
   ]
  },
  {
   "cell_type": "markdown",
   "metadata": {},
   "source": [
    "<h1><center>Decomposition and Abstraction of Computational Problems Using Function</center></h1>"
   ]
  },
  {
   "cell_type": "code",
   "execution_count": 43,
   "metadata": {},
   "outputs": [
    {
     "name": "stdout",
     "output_type": "stream",
     "text": [
      "3\n",
      "4\n"
     ]
    }
   ],
   "source": [
    "# Create a rounding function given rounded_to_int(x) and x can be any integer or float.\n",
    "# so rounded_to_int(3.14) will return 3 and rounded_to_int(3.54) will return 4. \n",
    "# Create a rounding function\n",
    "\n",
    "def rounded_to_int(x):\n",
    "    pos = str(x).find(\".\")+1\n",
    "    val = str(x)[pos:pos+1]\n",
    "    if (int(val) >= 5):\n",
    "        result = str(x+1)[0:pos-1]\n",
    "    else:\n",
    "        result = str(x)[0:pos-1]\n",
    "    return result\n",
    "\n",
    "print(rounded_to_int(3.14))\n",
    "print(rounded_to_int(3.54))"
   ]
  },
  {
   "cell_type": "markdown",
   "metadata": {},
   "source": [
    "<h1><center>A Tuition Fee Computation Example</center></h1> "
   ]
  },
  {
   "cell_type": "code",
   "execution_count": 45,
   "metadata": {},
   "outputs": [
    {
     "name": "stdout",
     "output_type": "stream",
     "text": [
      "1812.0\n"
     ]
    }
   ],
   "source": [
    "def compute_ta_fees(hrs,rate):\n",
    "    fee = hrs*rate\n",
    "    return fee\n",
    "ta_fees = compute_ta_fees(30,60.40)\n",
    "print(ta_fees)"
   ]
  },
  {
   "cell_type": "code",
   "execution_count": 46,
   "metadata": {},
   "outputs": [
    {
     "name": "stdout",
     "output_type": "stream",
     "text": [
      "Bernard has received $1812.0.\n"
     ]
    }
   ],
   "source": [
    "def compute_ta_fees(hrs,rate,name):\n",
    "    fee = hrs*rate\n",
    "    return name + \" has received $\" + str(fee) + \".\"\n",
    "ta_fees = compute_ta_fees(30,60.40,'Bernard')\n",
    "print(ta_fees)"
   ]
  },
  {
   "cell_type": "code",
   "execution_count": 47,
   "metadata": {},
   "outputs": [
    {
     "name": "stdout",
     "output_type": "stream",
     "text": [
      "Mary's mom has received $484.55999999999995.\n"
     ]
    }
   ],
   "source": [
    "def compute_ta_fees(hrs,rate,name):\n",
    "    fee = hrs*rate\n",
    "    money_to_mom = fee*.2\n",
    "    return name + \"'s mom has received $\" + str(money_to_mom) + \".\"\n",
    "ta_fees = compute_ta_fees(36,67.30,'Mary')\n",
    "print(ta_fees)"
   ]
  },
  {
   "cell_type": "code",
   "execution_count": 49,
   "metadata": {},
   "outputs": [
    {
     "name": "stdout",
     "output_type": "stream",
     "text": [
      "John's mom has received $390.0.\n",
      "Mike's mom has received $600.0.\n",
      "Mary's mom has received $650.0.\n",
      "Jane's mom has received $900.0.\n",
      "[\"John's mom has received $390.0.\", \"Mike's mom has received $600.0.\", \"Mary's mom has received $650.0.\", \"Jane's mom has received $900.0.\"]\n"
     ]
    }
   ],
   "source": [
    "def compute_ta_fees(hrs,rate,name):\n",
    "    fee = hrs*rate\n",
    "    money_to_mom = fee*.2\n",
    "    return name + \"'s mom has received $\" + str(money_to_mom) + \".\"\n",
    "# print ta_fees\n",
    "hrs_list = [30.0,40.0,50.0,60.0]\n",
    "rate_list = [65.0,75.0,65.0,75.0]\n",
    "name_list = ['John',\"Mike\",\"Mary\",\"Jane\"]\n",
    "index = 0\n",
    "output_list = []\n",
    "for number in name_list:\n",
    "        hrs = hrs_list[index]\n",
    "        rate = rate_list[index]\n",
    "        name = name_list[index]\n",
    "        ta_fees = compute_ta_fees(hrs,rate,name)\n",
    "        print(ta_fees)\n",
    "        output_list.append(ta_fees)\n",
    "        index = index + 1\n",
    "print(output_list)"
   ]
  },
  {
   "cell_type": "code",
   "execution_count": 33,
   "metadata": {},
   "outputs": [
    {
     "name": "stdout",
     "output_type": "stream",
     "text": [
      "ABC 2T HD : 59\n",
      "TS Wireless keyboard : 31\n",
      "Total: 920\n"
     ]
    }
   ],
   "source": [
    "purchase_list = [\"ABC 2T HD\", \"MS wireless mouse\", \"TS Wireless keyboard\"]\n",
    "inventory = {\n",
    "    \"ABC 2T HD\":60,\n",
    "    \"MS wireless mouse\":0,\n",
    "    \"TS Wireless keyboard\":32,\n",
    "    \"CC 500G USB Drive\":25\n",
    "}\n",
    "\n",
    "prices = {\n",
    "    \"ABC 2T HD\":800,\n",
    "    \"MS wireless mouse\":200,\n",
    "    \"TS Wireless keyboard\":120,\n",
    "    \"CC 500G USB Drive\":450\n",
    "}\n",
    "\n",
    "# Write your code below!\n",
    "def compute_bill(part_list):\n",
    "    total = 0\n",
    "    for item in part_list:\n",
    "        if inventory[item] > 0:\n",
    "            total = total + prices[item]\n",
    "            inventory[item] = inventory[item] - 1\n",
    "            print(item,\":\",inventory[item])\n",
    "    return total\n",
    "\n",
    "print(\"Total:\",compute_bill(purchase_list))"
   ]
  },
  {
   "cell_type": "code",
   "execution_count": 12,
   "metadata": {},
   "outputs": [
    {
     "name": "stdout",
     "output_type": "stream",
     "text": [
      "79.9\n",
      "C\n"
     ]
    }
   ],
   "source": [
    "john = {\n",
    "  \"name\": \"John\",\n",
    "  \"homework\": [90.0, 97.0, 75.0, 92.0],\n",
    "  \"quizzes\": [88.0, 40.0, 94.0],\n",
    "  \"tests\": [75.0, 90.0]\n",
    "}\n",
    "alan = {\n",
    "  \"name\": \"Alan\",\n",
    "  \"homework\": [100.0, 92.0, 98.0, 100.0],\n",
    "  \"quizzes\": [82.0, 83.0, 91.0],\n",
    "  \"tests\": [89.0, 97.0]\n",
    "}\n",
    "tom = {\n",
    "  \"name\": \"Tom\",\n",
    "  \"homework\": [0.0, 87.0, 75.0, 22.0],\n",
    "  \"quizzes\": [0.0, 75.0, 78.0],\n",
    "  \"tests\": [100.0, 100.0]\n",
    "}\n",
    "def average(numbers): # Step 4\n",
    "    total = sum(numbers)\n",
    "    total = float(total) \n",
    "    return total/len(numbers)\n",
    "\n",
    "def get_average(student): # Step 3\n",
    "    homework = average(student[\"homework\"]) # Step 4\n",
    "    quizzes = average(student[\"quizzes\"])\n",
    "    tests = average(student[\"tests\"])\n",
    "    return 0.1 * homework + 0.3 * quizzes + 0.6 * tests\n",
    "\n",
    "def get_letter_grade(score): # Step 5\n",
    "    if score >= 90:\n",
    "        return \"A\" \n",
    "    elif score >=80:\n",
    "        return \"B\"\n",
    "    elif score >=70:\n",
    "        return \"C\" \n",
    "    elif score >=60:\n",
    "        return \"D\"\n",
    "    else:\n",
    "        return \"F\"\n",
    "    \n",
    "def get_class_average(class_list): # Step 2\n",
    "    results = []\n",
    "    for student in class_list:\n",
    "        student_avg = get_average(student) # Step 3\n",
    "    results.append(student_avg)\n",
    "    return average(results)\n",
    "\n",
    "students = [john, alan, tom] # Step 1 - students is a list of dict objects with each dict representing the\n",
    "                                 # records of the student's scores in homeworks, quizzes, and tests         \n",
    "class_avg = get_class_average(students)# Step 2\n",
    "print(class_avg)\n",
    "print(get_letter_grade(class_avg)) # Step 5"
   ]
  },
  {
   "cell_type": "markdown",
   "metadata": {
    "slideshow": {
     "slide_type": "slide"
    }
   },
   "source": [
    "<h1><center>Try it out</center></h1>"
   ]
  },
  {
   "cell_type": "markdown",
   "metadata": {},
   "source": [
    "<h1><center>From Spreadsheet Table to Pandas Table</center></h1>\n",
    "<div style=\"margin-left:100px;\">"
   ]
  },
  {
   "cell_type": "markdown",
   "metadata": {},
   "source": [
    "<h1><center>Introduction to Pandas</center></h1>\n",
    "<div style=\"margin-left:100px;\">\n",
    "<ul>\n",
    "        <li>Pandas allows us to deal with 2 data structures: series and data frame</li>\n",
    "        <li>In our workshop, we'll only concentrate on data frame as it is more commonly used</li>\n",
    "        <li>A data frame is consisted of rows and columns. It can be made from Python list and dictionary objects</li>\n",
    "        <li>Pandas can put a dictionary of list into a data frame</li>\n",
    "        <li>There are build-in Panas functions for reading (e.g. df=pd.read_csv('&lt;file name&gt;')) and writing to CSV files (e.g df.to_csv('&lt;file name&gt;', sep='\\t', encoding='utf-8'))</li>\n",
    "</ul>\n",
    "</div>    "
   ]
  },
  {
   "cell_type": "code",
   "execution_count": 13,
   "metadata": {},
   "outputs": [
    {
     "name": "stdout",
     "output_type": "stream",
     "text": [
      "   Color  Product ID Product Name  Units Sold\n",
      "0   blue           1      t-shirt         250\n",
      "1  green           2        jeans         300\n",
      "2    red           3        shirt         180\n",
      "3  black           4        skirt         200\n"
     ]
    }
   ],
   "source": [
    "import pandas as pd\n",
    "df1 = pd.DataFrame({ \n",
    "     # Define dataframe as a dictionary object\n",
    "     'Product ID': [1, 2, 3, 4],\n",
    "     # add Product Name and Color here\n",
    "     'Product Name': ['t-shirt','jeans','shirt','skirt'],\n",
    "     'Color':['blue','green','red','black'],\n",
    "     'Units Sold':[250,300,180,200]\n",
    "})\n",
    "print(df1)"
   ]
  },
  {
   "cell_type": "markdown",
   "metadata": {},
   "source": [
    "<h1><center>With a little bit of background in HTML/CSS/JS and Python, <br>it's now time to scrap!</center></h1>\n",
    "<div style=\"margin-left:100px;\">"
   ]
  },
  {
   "cell_type": "markdown",
   "metadata": {
    "slideshow": {
     "slide_type": "slide"
    }
   },
   "source": [
    "<h1><center>Scraping Data with Beautiful Soup and Storing the Result as CSV File<br>\n",
    "using Startup Beat as Example</center></h1>\n",
    "<div style=\"margin-left:100px;\">"
   ]
  },
  {
   "cell_type": "code",
   "execution_count": 14,
   "metadata": {},
   "outputs": [],
   "source": [
    "import requests\n",
    "import csv\n",
    "from bs4 import BeautifulSoup\n",
    "\n",
    "quote_page = requests.get('http://startupbeat.hkej.com/?tag=fintech&paged=1') \n",
    "soup = BeautifulSoup(quote_page.content,'html.parser')\n",
    "data = []\n",
    "for article in soup.find_all('div',class_='archive-text'):\n",
    "     url = article.a.get('href')\n",
    "     post_date = article.div.ul.li.text\n",
    "     data.append((url, post_date))\n",
    "         \n",
    "with open('startup_beat_demo.csv', 'w') as csv_file:\n",
    "     writer = csv.writer(csv_file)\n",
    "     header = ['url','post date']\n",
    "     writer.writerow(header)\n",
    "     for url, post_date in data:\n",
    "         writer.writerow([url, post_date])"
   ]
  },
  {
   "cell_type": "markdown",
   "metadata": {},
   "source": [
    "<h1><center>Try it out</center></h1>"
   ]
  },
  {
   "cell_type": "markdown",
   "metadata": {},
   "source": [
    "<h1><center>Scraping with Beautiful Soup and Saving Result in CSV with Pandas<br>\n",
    "Using Startup Beat as Example</center></h1>"
   ]
  },
  {
   "cell_type": "code",
   "execution_count": 2,
   "metadata": {},
   "outputs": [
    {
     "name": "stdout",
     "output_type": "stream",
     "text": [
      "\n",
      "***** Page 1 in action *****\n",
      "美黑客盜3900萬加密幣  騎劫手機號碼 逾40人中招\n",
      "http://startupbeat.hkej.com/?p=61801\n",
      "美國加州警方在上月拘捕了一名20歲的大學生Joel Ortiz，他涉嫌騎劫40多個手機號碼，並竊取市值約3900萬港元加密幣；部分受害者更是投資者，懷疑現身區塊鏈論壇時，遭黑客鎖定而中招。\n",
      "Posted August 1, 2018\n",
      "港貿融區塊鏈平台9月開張\n",
      "http://startupbeat.hkej.com/?p=61788\n",
      "由金管局牽頭、中國平安（02318）旗下金融壹賬通設計的貿易融資區塊鏈平台預期將於9月投入使用。金融壹賬通首席技術官兼首席運營官黃宇翔表示，平台現時正進行第四輪測試，預計下月初完成最後一輪測試，目前各參與銀行反應正面。\n",
      "Posted July 31, 2018\n",
      "陳家強：FinTech監管致成功\n",
      "http://startupbeat.hkej.com/?p=61752\n",
      "陳家強近日加入正申請上市的本地「獨角獸」企業WeLab，出任資深顧問。他笑言，「我成日在學校講FinTech，不如自己試做，看看能如何推動FinTech。」他指出，日後會探討WeLab與科大的合作。\n",
      "Posted July 30, 2018\n",
      "銀行開放API 花旗添3夥伴\n",
      "http://startupbeat.hkej.com/?p=61748\n",
      "金管局早前公布開放API框架，分4階段落實，首階段在6個月內推行。花旗集團透露，繼年初公布與多家機構合作後，最新再增加3個合作夥伴，包括東瀛遊、豐澤及屈臣氏，令項目的夥伴增至8家。\n",
      "Posted July 30, 2018\n",
      "摸不透寧保守 未擬染指ICO\n",
      "http://startupbeat.hkej.com/?p=61736\n",
      "以比特幣（Bitcoin）為首的加密貨幣，近年風靡各地金融市場，亦助長了「首次代幣發行」（ICO）冒起，成為初創集資的新興方式。海闊天空創投基金聯合創辦人文立坦言，並不理解這熱潮，遂未有投資任何ICO或區塊鏈項目。\n",
      "Posted July 30, 2018\n",
      "ICO騙局防不勝防 (黃岳永)\n",
      "http://startupbeat.hkej.com/?p=61702\n",
      "與很多事物一樣，科技是一把雙刃劍，它可以創造奇蹟，也能發展為泡沫，不熟悉情況的公眾更可能出現重大誤解。相信很多人還記得2000年時的「千年蟲騙案」，當年公眾對系統問題的誤解令人啼笑皆非。\n",
      "Posted July 27, 2018\n",
      "八達通夥Lalamove推好易畀\n",
      "http://startupbeat.hkej.com/?p=61667\n",
      "八達通公司宣布與速遞及貨運公司Lalamove合作，向所有Lalamove司機推出商戶好易畀（O! ePay）服務，顧客可以透過手機的NFC功能以八達通拍卡付款，或掃描二維碼以好易畀程式付費。\n",
      "Posted July 26, 2018\n",
      "AlipayHK：信用卡被盜用可即時知悉\n",
      "http://startupbeat.hkej.com/?p=61532\n",
      "網上流傳並討論有人疑透過AlipayHK盜用及連結受害人的信用卡進行交易之安全問題，AlipayHK於周六（21日）發表聲明指出，一直都有嚴格的保安措施，並且遵從監管機構的指引，以保障用戶的使用安全。\n",
      "Posted July 23, 2018\n",
      "銀行半年內開放API更易格價\n",
      "http://startupbeat.hkej.com/?p=61417\n",
      "被問及若銀行不積極參與，會否影響成效，李達志不擔心銀行會抗拒參與，因為開放API相對上是提升了銀行服務和競爭力，如果不參與，會被對手趕上。但他不排除日後有需要時立法強制實行。\n",
      "Posted July 19, 2018\n",
      "貝萊德研區塊鏈及加密幣\n",
      "http://startupbeat.hkej.com/?p=61358\n",
      "全球最大資產管理公司貝萊德（BlackRock）行政總裁芬克（Larry Fink）接受外電訪問時指出，已成立工作小組研究區塊鏈技術及比特幣在內等加密貨幣。不過，他強調，並未看到市場對加密貨幣有極大的需求。\n",
      "Posted July 18, 2018\n",
      "\n",
      "***** Page 2 in action *****\n",
      "獨角獸WeLab委陳家強當資深顧問 (凌通)\n",
      "http://startupbeat.hkej.com/?p=61320\n",
      "正準備上市的「獨角獸」WeLab宣布，委任前財經事務及庫務局局長陳家強擔任集團資深顧問。\n",
      "Posted July 17, 2018\n",
      "快速支付系統不會創造貨幣\n",
      "http://startupbeat.hkej.com/?p=61270\n",
      "陳德霖提醒：「不要把無現金化當作最崇高的目標」，重申支付只是一種手段，應以方便市民、令支付方安全、快捷為目標，並且要有包容性，目前香港在支付上並無排他性，任何人特別是非本地居民如旅客，幾乎任何支付工具在港都可以使用。\n",
      "Posted July 16, 2018\n",
      "寄語金融界「失科技 失天下」\n",
      "http://startupbeat.hkej.com/?p=61266\n",
      "金管局去年9月祭出7招推動香港邁向智慧銀行新紀元，金管局總裁陳德霖表示，各項措施進展良好。他強調「失科技、失天下」，金融業若沒有在金融科技上做工夫，儘管現時是霸主，日後市場份額亦可能被蠶食，這是全球大勢所趨。\n",
      "Posted July 16, 2018\n",
      "星展冀港星數碼客戶增至七成\n",
      "http://startupbeat.hkej.com/?p=61206\n",
      "星展集團行政總裁高博德（Piyush Gupta）指，香港及新加坡數碼客戶比例冀達七成，並且把內部系統全面雲化。數據又顯示，獲取數碼客戶的成本較低，而且甚至更具價值。去年香港及新加坡每名數碼客戶貢獻1300元收入，是傳統客戶的兩倍。\n",
      "Posted July 13, 2018\n",
      "香港手機支付為何不普及 (方保僑)\n",
      "http://startupbeat.hkej.com/?p=61146\n",
      "至於安全問題方面，當傳統信用卡丟失了或被盜，則很容易被盜用，我曾親眼見過有朋友的信用卡及錢包在午飯時被盜取，不到30分鐘已被盜用。看完以上的分析，你現在認為哪種支付方法更為安全？\n",
      "Posted July 12, 2018\n",
      "靠ICO集資 56%四個月玩完\n",
      "http://startupbeat.hkej.com/?p=61083\n",
      "美國波士頓學院近日追蹤了2390間初創，他們均以首次代幣發行（ICO）集資，團隊收集了數據計算他們的存活率。若以Twitter平台的發帖紀錄，視之為業務正常運作的指標，研究人員發現調查的初創中，只有44.2%於120日後依然存活。\n",
      "Posted July 11, 2018\n",
      "AI專才渴市搶人有計 (WeLab 李家達)\n",
      "http://startupbeat.hkej.com/?p=60937\n",
      "不少初創為搶攻市場，近年涉足人工智能（AI）領域，惟相關人才一直供不應求。《信報》StartupBeat請來WeLab香港總經理李家達，探討如何利用AI滿足客戶要求，以及招攬專才的策略。\n",
      "Posted July 6, 2018\n",
      "港電子支付戰國時代 (方保僑)\n",
      "http://startupbeat.hkej.com/?p=60909\n",
      "以前也提及過滙豐PayMe一向低調地宣傳P2P轉賬服務，保守估計在過去兩年已經儲了幾十萬客戶，遲早會進入P2M世界，如今以本地最受歡迎網上購物平台HKTVmall作為切入點，未嘗不是聰明方法。\n",
      "Posted July 5, 2018\n",
      "港智慧支付接受程度遜預期\n",
      "http://startupbeat.hkej.com/?p=60914\n",
      "香港生產力促進局進行的「Alipay HK智慧支付普及指數」昨日公布調查結果，發現普及指數為53.9（最高為100），反映「智慧支付」概念在香港逐漸成形。調查顯示，用家智慧支付接受程度為45.5分，略遜預期。\n",
      "Posted July 5, 2018\n",
      "虛擬銀行勢成港銀增長引擎\n",
      "http://startupbeat.hkej.com/?p=60671\n",
      "畢馬威香港銀行業和資本市場主管合夥人馬紹輝認為，虛擬銀行可望成為香港銀行業下一個增長引擎，又指虛擬銀行在合規、KYC（認識你的客戶）、遙距開戶等方面可為傳統銀行帶來衝擊。\n",
      "Posted June 27, 2018\n",
      "CPU times: user 319 ms, sys: 68.3 ms, total: 388 ms\n",
      "Wall time: 44.5 s\n"
     ]
    }
   ],
   "source": [
    "%%time\n",
    "import requests\n",
    "import csv\n",
    "import pandas as pd\n",
    "from bs4 import BeautifulSoup\n",
    "from time import sleep\n",
    "from random import randint\n",
    "from time import time\n",
    "\n",
    "# quote_page = requests.get('http://startupbeat.hkej.com/?tag=fintech&paged=1') \n",
    "# soup = BeautifulSoup(quote_page.text,'html.parser')\n",
    "\n",
    "header = ['page #','title','url','details','post date']\n",
    "data = []\n",
    "# Display and store away 2 pages of scrapped data from startupbeat.hkej.com\n",
    "for i in range(1,3):\n",
    "    quote_page = requests.get('http://startupbeat.hkej.com/?tag=fintech&paged='+str(i)) \n",
    "    sleep(randint(8,15))\n",
    "    print(\"\\n***** Page \" + str(i) +\" in action *****\")\n",
    "    soup = BeautifulSoup(quote_page.content,'html.parser')\n",
    "    \n",
    "    for article in soup.find_all(\"div\", attrs={\"class\":\"archive-text\"}):\n",
    "    # for article in soup.find_all('div',class_='archive-text'):\n",
    "         page_no = str(i)\n",
    "         title = article.a.text.encode('utf-8').strip()\n",
    "         decoded_title = title.decode('utf-8')\n",
    "         url = article.a.get('href')\n",
    "         details = article.p.text.encode('utf-8').strip()\n",
    "         decoded_details = details.decode('utf-8')\n",
    "         post_date = article.div.ul.li.text\n",
    "         print(decoded_title)\n",
    "         print(url)\n",
    "         print(decoded_details)\n",
    "         print(post_date)\n",
    "         data.append((page_no, decoded_title, url, decoded_details, post_date))\n",
    "        \n",
    "df = pd.DataFrame(data,\n",
    "  columns = header\n",
    ")\n",
    "df.to_csv('projects/startup_beat_data_1.csv', sep='\\t', encoding='utf-8')"
   ]
  },
  {
   "cell_type": "markdown",
   "metadata": {},
   "source": [
    "<h1><center>Try it out</center></h1>"
   ]
  },
  {
   "cell_type": "markdown",
   "metadata": {},
   "source": [
    "<h1><center>Job Listing Scraping Example (orginal source: https://medium.com/@msalmon00/web-scraping-job-postings-from-indeed-96bd588dcb4b by Michael Salmon\n",
    "</center></h1>"
   ]
  },
  {
   "cell_type": "code",
   "execution_count": 3,
   "metadata": {},
   "outputs": [
    {
     "data": {
      "text/plain": [
       "['Data Scientist I',\n",
       " 'Data & Applied Scientist',\n",
       " 'Jr. Data Scientist',\n",
       " 'Data Scientist',\n",
       " 'Data Scientist',\n",
       " 'Data Scientist',\n",
       " 'AVP - Data Scientist - New York, NY',\n",
       " 'Data Scientist, Content Business Analysis',\n",
       " 'Data Scientist',\n",
       " 'Data Scientist']"
      ]
     },
     "execution_count": 3,
     "metadata": {},
     "output_type": "execute_result"
    }
   ],
   "source": [
    "import requests\n",
    "import bs4\n",
    "from bs4 import BeautifulSoup\n",
    "import pandas as pd\n",
    "import time\n",
    "\n",
    "URL = \"https://www.indeed.com/jobs?q=data+scientist+%2420%2C000&l=New+York&start=10\"\n",
    "#conducting a request of the stated URL above:\n",
    "page = requests.get(URL)\n",
    "#specifying a desired format of “page” using the html parser - this allows python to read the various components of the page, rather than treating it as one long string.\n",
    "soup = BeautifulSoup(page.text,\"html.parser\")\n",
    "\n",
    "#printing soup in a more structured tree format that makes for easier reading\n",
    "# print(soup.prettify())\n",
    "jobs = []\n",
    "def extract_job_title_from_result(soup): \n",
    "  for div in soup.find_all(name=\"div\"):\n",
    "      for a in div.find_all(name=\"a\", attrs={\"data-tn-element\":\"jobTitle\"}):\n",
    "          jobs.append(a[\"title\"])\n",
    "  return(jobs)\n",
    "\n",
    "extract_job_title_from_result(soup)"
   ]
  },
  {
   "cell_type": "code",
   "execution_count": 4,
   "metadata": {},
   "outputs": [
    {
     "data": {
      "text/plain": [
       "['Grubhub',\n",
       " 'Microsoft',\n",
       " 'NYP/Weill Cornell Medical Center',\n",
       " 'J.Crew Group, Inc.',\n",
       " 'LOCKHEED MARTIN CORPORATION',\n",
       " 'New York State Office of the Attorney General',\n",
       " 'Citi',\n",
       " 'Spotify',\n",
       " 'Hearts and Science',\n",
       " 'Invesco']"
      ]
     },
     "execution_count": 4,
     "metadata": {},
     "output_type": "execute_result"
    }
   ],
   "source": [
    "companies = []\n",
    "def extract_company_from_result(soup): \n",
    "  for div in soup.find_all(name=\"div\", attrs={\"class\":\"row\"}):\n",
    "    company = div.find_all(name=\"span\", attrs={\"class\":\"company\"})\n",
    "    if len(company) > 0:\n",
    "        for b in company:\n",
    "            companies.append(b.text.strip())\n",
    "    else:\n",
    "        sec_try = div.find_all(name=\"span\", attrs={\"class\":\"result-link-source\"})\n",
    "        for span in sec_try:\n",
    "          companies.append(span.text.strip())\n",
    "  return(companies)\n",
    "\n",
    "extract_company_from_result(soup)"
   ]
  },
  {
   "cell_type": "code",
   "execution_count": 5,
   "metadata": {},
   "outputs": [
    {
     "data": {
      "text/plain": [
       "['Data Scientist I',\n",
       " 'Data & Applied Scientist',\n",
       " 'Jr. Data Scientist',\n",
       " 'Data Scientist',\n",
       " 'Data Scientist',\n",
       " 'Data Scientist',\n",
       " 'AVP - Data Scientist - New York, NY',\n",
       " 'Data Scientist, Content Business Analysis',\n",
       " 'Data Scientist',\n",
       " 'Data Scientist']"
      ]
     },
     "execution_count": 5,
     "metadata": {},
     "output_type": "execute_result"
    }
   ],
   "source": [
    "jobs"
   ]
  },
  {
   "cell_type": "code",
   "execution_count": 6,
   "metadata": {},
   "outputs": [
    {
     "data": {
      "text/plain": [
       "['Grubhub',\n",
       " 'Microsoft',\n",
       " 'NYP/Weill Cornell Medical Center',\n",
       " 'J.Crew Group, Inc.',\n",
       " 'LOCKHEED MARTIN CORPORATION',\n",
       " 'New York State Office of the Attorney General',\n",
       " 'Citi',\n",
       " 'Spotify',\n",
       " 'Hearts and Science',\n",
       " 'Invesco']"
      ]
     },
     "execution_count": 6,
     "metadata": {},
     "output_type": "execute_result"
    }
   ],
   "source": [
    "companies"
   ]
  },
  {
   "cell_type": "code",
   "execution_count": 7,
   "metadata": {},
   "outputs": [
    {
     "data": {
      "text/html": [
       "<div>\n",
       "<style scoped>\n",
       "    .dataframe tbody tr th:only-of-type {\n",
       "        vertical-align: middle;\n",
       "    }\n",
       "\n",
       "    .dataframe tbody tr th {\n",
       "        vertical-align: top;\n",
       "    }\n",
       "\n",
       "    .dataframe thead th {\n",
       "        text-align: right;\n",
       "    }\n",
       "</style>\n",
       "<table border=\"1\" class=\"dataframe\">\n",
       "  <thead>\n",
       "    <tr style=\"text-align: right;\">\n",
       "      <th></th>\n",
       "      <th>Jobs</th>\n",
       "      <th>Companies</th>\n",
       "    </tr>\n",
       "  </thead>\n",
       "  <tbody>\n",
       "    <tr>\n",
       "      <th>0</th>\n",
       "      <td>Data Scientist I</td>\n",
       "      <td>Grubhub</td>\n",
       "    </tr>\n",
       "    <tr>\n",
       "      <th>1</th>\n",
       "      <td>Data &amp; Applied Scientist</td>\n",
       "      <td>Microsoft</td>\n",
       "    </tr>\n",
       "    <tr>\n",
       "      <th>2</th>\n",
       "      <td>Jr. Data Scientist</td>\n",
       "      <td>NYP/Weill Cornell Medical Center</td>\n",
       "    </tr>\n",
       "    <tr>\n",
       "      <th>3</th>\n",
       "      <td>Data Scientist</td>\n",
       "      <td>J.Crew Group, Inc.</td>\n",
       "    </tr>\n",
       "    <tr>\n",
       "      <th>4</th>\n",
       "      <td>Data Scientist</td>\n",
       "      <td>LOCKHEED MARTIN CORPORATION</td>\n",
       "    </tr>\n",
       "    <tr>\n",
       "      <th>5</th>\n",
       "      <td>Data Scientist</td>\n",
       "      <td>New York State Office of the Attorney General</td>\n",
       "    </tr>\n",
       "    <tr>\n",
       "      <th>6</th>\n",
       "      <td>AVP - Data Scientist - New York, NY</td>\n",
       "      <td>Citi</td>\n",
       "    </tr>\n",
       "    <tr>\n",
       "      <th>7</th>\n",
       "      <td>Data Scientist, Content Business Analysis</td>\n",
       "      <td>Spotify</td>\n",
       "    </tr>\n",
       "    <tr>\n",
       "      <th>8</th>\n",
       "      <td>Data Scientist</td>\n",
       "      <td>Hearts and Science</td>\n",
       "    </tr>\n",
       "    <tr>\n",
       "      <th>9</th>\n",
       "      <td>Data Scientist</td>\n",
       "      <td>Invesco</td>\n",
       "    </tr>\n",
       "  </tbody>\n",
       "</table>\n",
       "</div>"
      ],
      "text/plain": [
       "                                        Jobs  \\\n",
       "0                           Data Scientist I   \n",
       "1                   Data & Applied Scientist   \n",
       "2                         Jr. Data Scientist   \n",
       "3                             Data Scientist   \n",
       "4                             Data Scientist   \n",
       "5                             Data Scientist   \n",
       "6        AVP - Data Scientist - New York, NY   \n",
       "7  Data Scientist, Content Business Analysis   \n",
       "8                             Data Scientist   \n",
       "9                             Data Scientist   \n",
       "\n",
       "                                       Companies  \n",
       "0                                        Grubhub  \n",
       "1                                      Microsoft  \n",
       "2               NYP/Weill Cornell Medical Center  \n",
       "3                             J.Crew Group, Inc.  \n",
       "4                    LOCKHEED MARTIN CORPORATION  \n",
       "5  New York State Office of the Attorney General  \n",
       "6                                           Citi  \n",
       "7                                        Spotify  \n",
       "8                             Hearts and Science  \n",
       "9                                        Invesco  "
      ]
     },
     "execution_count": 7,
     "metadata": {},
     "output_type": "execute_result"
    }
   ],
   "source": [
    "#import pandas to convert list to data frame\n",
    "import pandas as pd\n",
    "df=pd.DataFrame(jobs,columns=['Jobs'])\n",
    "df['Companies']=companies\n",
    "df"
   ]
  },
  {
   "cell_type": "markdown",
   "metadata": {},
   "source": [
    "<h1><center>Try it out</center></h1>"
   ]
  },
  {
   "cell_type": "markdown",
   "metadata": {},
   "source": [
    "<h1><center>Scraping NBA Data\n",
    "(<a href='http://savvastjortjoglou.com/nba-draft-part01-scraping.html' target='_blank'>Original Source:Scraping and Cleaning the NBA Draft by \n",
    "Savvas Tjortjoglou)</a></center></h1>"
   ]
  },
  {
   "cell_type": "code",
   "execution_count": 11,
   "metadata": {},
   "outputs": [
    {
     "data": {
      "text/html": [
       "<div>\n",
       "<style scoped>\n",
       "    .dataframe tbody tr th:only-of-type {\n",
       "        vertical-align: middle;\n",
       "    }\n",
       "\n",
       "    .dataframe tbody tr th {\n",
       "        vertical-align: top;\n",
       "    }\n",
       "\n",
       "    .dataframe thead th {\n",
       "        text-align: right;\n",
       "    }\n",
       "</style>\n",
       "<table border=\"1\" class=\"dataframe\">\n",
       "  <thead>\n",
       "    <tr style=\"text-align: right;\">\n",
       "      <th></th>\n",
       "      <th>Rk</th>\n",
       "      <th>Pk</th>\n",
       "      <th>Tm</th>\n",
       "      <th>Player</th>\n",
       "      <th>College</th>\n",
       "      <th>Yrs</th>\n",
       "      <th>G</th>\n",
       "      <th>MP</th>\n",
       "      <th>PTS</th>\n",
       "      <th>TRB</th>\n",
       "      <th>...</th>\n",
       "      <th>3P%</th>\n",
       "      <th>FT%</th>\n",
       "      <th>MP</th>\n",
       "      <th>PTS</th>\n",
       "      <th>TRB</th>\n",
       "      <th>AST</th>\n",
       "      <th>WS</th>\n",
       "      <th>WS/48</th>\n",
       "      <th>BPM</th>\n",
       "      <th>VORP</th>\n",
       "    </tr>\n",
       "  </thead>\n",
       "  <tbody>\n",
       "    <tr>\n",
       "      <th>0</th>\n",
       "      <td>1</td>\n",
       "      <td>1</td>\n",
       "      <td>CLE</td>\n",
       "      <td>Andrew Wiggins</td>\n",
       "      <td>University of Kansas</td>\n",
       "      <td>4</td>\n",
       "      <td>327</td>\n",
       "      <td>11841</td>\n",
       "      <td>6447</td>\n",
       "      <td>1351</td>\n",
       "      <td>...</td>\n",
       "      <td>.330</td>\n",
       "      <td>.741</td>\n",
       "      <td>36.2</td>\n",
       "      <td>19.7</td>\n",
       "      <td>4.1</td>\n",
       "      <td>2.1</td>\n",
       "      <td>12.4</td>\n",
       "      <td>.050</td>\n",
       "      <td>-2.4</td>\n",
       "      <td>-1.2</td>\n",
       "    </tr>\n",
       "    <tr>\n",
       "      <th>1</th>\n",
       "      <td>2</td>\n",
       "      <td>2</td>\n",
       "      <td>MIL</td>\n",
       "      <td>Jabari Parker</td>\n",
       "      <td>Duke University</td>\n",
       "      <td>4</td>\n",
       "      <td>183</td>\n",
       "      <td>5617</td>\n",
       "      <td>2794</td>\n",
       "      <td>998</td>\n",
       "      <td>...</td>\n",
       "      <td>.352</td>\n",
       "      <td>.747</td>\n",
       "      <td>30.7</td>\n",
       "      <td>15.3</td>\n",
       "      <td>5.5</td>\n",
       "      <td>2.0</td>\n",
       "      <td>10.2</td>\n",
       "      <td>.087</td>\n",
       "      <td>-1.4</td>\n",
       "      <td>0.9</td>\n",
       "    </tr>\n",
       "    <tr>\n",
       "      <th>2</th>\n",
       "      <td>3</td>\n",
       "      <td>3</td>\n",
       "      <td>PHI</td>\n",
       "      <td>Joel Embiid</td>\n",
       "      <td>University of Kansas</td>\n",
       "      <td>2</td>\n",
       "      <td>94</td>\n",
       "      <td>2698</td>\n",
       "      <td>2072</td>\n",
       "      <td>933</td>\n",
       "      <td>...</td>\n",
       "      <td>.327</td>\n",
       "      <td>.774</td>\n",
       "      <td>28.7</td>\n",
       "      <td>22.0</td>\n",
       "      <td>9.9</td>\n",
       "      <td>2.8</td>\n",
       "      <td>8.1</td>\n",
       "      <td>.144</td>\n",
       "      <td>2.8</td>\n",
       "      <td>3.2</td>\n",
       "    </tr>\n",
       "    <tr>\n",
       "      <th>3</th>\n",
       "      <td>4</td>\n",
       "      <td>4</td>\n",
       "      <td>ORL</td>\n",
       "      <td>Aaron Gordon</td>\n",
       "      <td>University of Arizona</td>\n",
       "      <td>4</td>\n",
       "      <td>263</td>\n",
       "      <td>6867</td>\n",
       "      <td>3003</td>\n",
       "      <td>1538</td>\n",
       "      <td>...</td>\n",
       "      <td>.309</td>\n",
       "      <td>.698</td>\n",
       "      <td>26.1</td>\n",
       "      <td>11.4</td>\n",
       "      <td>5.8</td>\n",
       "      <td>1.7</td>\n",
       "      <td>13.0</td>\n",
       "      <td>.091</td>\n",
       "      <td>-0.1</td>\n",
       "      <td>3.3</td>\n",
       "    </tr>\n",
       "    <tr>\n",
       "      <th>4</th>\n",
       "      <td>5</td>\n",
       "      <td>5</td>\n",
       "      <td>UTA</td>\n",
       "      <td>Dante Exum</td>\n",
       "      <td></td>\n",
       "      <td>3</td>\n",
       "      <td>162</td>\n",
       "      <td>3280</td>\n",
       "      <td>919</td>\n",
       "      <td>289</td>\n",
       "      <td>...</td>\n",
       "      <td>.306</td>\n",
       "      <td>.757</td>\n",
       "      <td>20.2</td>\n",
       "      <td>5.7</td>\n",
       "      <td>1.8</td>\n",
       "      <td>2.2</td>\n",
       "      <td>1.7</td>\n",
       "      <td>.025</td>\n",
       "      <td>-3.1</td>\n",
       "      <td>-0.9</td>\n",
       "    </tr>\n",
       "  </tbody>\n",
       "</table>\n",
       "<p>5 rows × 22 columns</p>\n",
       "</div>"
      ],
      "text/plain": [
       "  Rk Pk   Tm          Player                College Yrs    G     MP   PTS  \\\n",
       "0  1  1  CLE  Andrew Wiggins   University of Kansas   4  327  11841  6447   \n",
       "1  2  2  MIL   Jabari Parker        Duke University   4  183   5617  2794   \n",
       "2  3  3  PHI     Joel Embiid   University of Kansas   2   94   2698  2072   \n",
       "3  4  4  ORL    Aaron Gordon  University of Arizona   4  263   6867  3003   \n",
       "4  5  5  UTA      Dante Exum                          3  162   3280   919   \n",
       "\n",
       "    TRB  ...    3P%   FT%    MP   PTS  TRB  AST    WS WS/48   BPM  VORP  \n",
       "0  1351  ...   .330  .741  36.2  19.7  4.1  2.1  12.4  .050  -2.4  -1.2  \n",
       "1   998  ...   .352  .747  30.7  15.3  5.5  2.0  10.2  .087  -1.4   0.9  \n",
       "2   933  ...   .327  .774  28.7  22.0  9.9  2.8   8.1  .144   2.8   3.2  \n",
       "3  1538  ...   .309  .698  26.1  11.4  5.8  1.7  13.0  .091  -0.1   3.3  \n",
       "4   289  ...   .306  .757  20.2   5.7  1.8  2.2   1.7  .025  -3.1  -0.9  \n",
       "\n",
       "[5 rows x 22 columns]"
      ]
     },
     "execution_count": 11,
     "metadata": {},
     "output_type": "execute_result"
    }
   ],
   "source": [
    "from urllib.request import urlopen\n",
    "from bs4 import BeautifulSoup\n",
    "import pandas as pd\n",
    "import csv\n",
    "\n",
    "url = \"http://www.basketball-reference.com/draft/NBA_2014.html\"\n",
    "html = urlopen(url)\n",
    "soup = BeautifulSoup(html,'html.parser')\n",
    "column_headers = []\n",
    "for th in soup.findAll('tr',limit=2)[1].findAll('th'):\n",
    "    column_headers.append(th.getText())\n",
    "data_rows = soup.findAll('tr')[2:]  # skip the first 2 header rows\n",
    "player_data = []  \n",
    "for i in range(len(data_rows)):  # for each table row\n",
    "    player_row = [] \n",
    "    # for each table data element from each table row\n",
    "    for th in data_rows[i].findAll('th',limit=1):\n",
    "        player_row.append(th.getText())\n",
    "    for td in data_rows[i].findAll('td'):        \n",
    "        # get the text content and append to the player_row \n",
    "        player_row.append(td.getText())        \n",
    "    # then append each pick/player to the player_data matrix\n",
    "    player_data.append(player_row)\n",
    "df = pd.DataFrame(player_data, columns=column_headers)\n",
    "df.to_csv('projects/nba.csv', sep='\\t', encoding='utf-8')\n",
    "df.head() "
   ]
  },
  {
   "cell_type": "markdown",
   "metadata": {},
   "source": [
    "<h1><center>Try it out</center></h1>"
   ]
  },
  {
   "cell_type": "markdown",
   "metadata": {},
   "source": [
    "<h1><center>Scraping, Transforming, and Visualizing with Beautiful Soup,Pandas, and Mathplotlib</center></h1>"
   ]
  },
  {
   "cell_type": "code",
   "execution_count": 4,
   "metadata": {},
   "outputs": [
    {
     "name": "stdout",
     "output_type": "stream",
     "text": [
      "Air Quality Ranking\n",
      "\n",
      "    Rank          City  AQI Air Quality Level  PM2.5  PM10\n",
      "0      1        Urumqi   30         Excellent     11    21\n",
      "1      2     Changchun   50         Excellent     29    51\n",
      "2      3        Dalian   53              Good     26    56\n",
      "3      4         Lhasa   52              Good     20    58\n",
      "4      5         Sanya   55              Good     20    60\n",
      "5      6      Shenyang   56              Good     33    63\n",
      "6      7       Kunming   57              Good     36    59\n",
      "7      8      Hangzhou   59              Good     27    65\n",
      "8      9        Haikou   59              Good     30    68\n",
      "9     10       Qingdao   68              Good     28    85\n",
      "10    11     Changsha    69              Good     33    88\n",
      "11    12     Chongqing   69              Good     26    87\n",
      "12    13      Shenzhen   70              Good     37    91\n",
      "13    14        Suzhou   72              Good     33   102\n",
      "14    15        Fuzhou   72              Good     31    94\n",
      "15    16         Wuhan   74              Good     32   104\n",
      "16    17       Nanjing   77              Good     23   104\n",
      "17    18      Shanghai   77              Good     40   103\n",
      "18    19        Xiamen   77              Good     30    90\n",
      "19    20       Nanning   79              Good     46   108\n",
      "20    21         Hefei   84              Good     36   118\n",
      "21    22        Datong   87              Good     51   124\n",
      "22    23        Guilin   87              Good     56   122\n",
      "23    24       Guiyang   91              Good     48   132\n",
      "24    25        Harbin   94              Good     63   103\n",
      "25    26        Xining   95              Good     55   118\n",
      "26    27      Yangzhou   96              Good     36   142\n",
      "27    28     Guangzhou   99              Good     71   131\n",
      "28    29        Hohhot  100              Good     53   150\n",
      "29    30       Lanzhou  100              Good     43   135\n",
      "30    31       Luoyang  101  Lightly Polluted     67   144\n",
      "31    32       Chengdu  101  Lightly Polluted     62   143\n",
      "32    33         Jinan  103  Lightly Polluted     43   151\n",
      "33    34          Xian  106  Lightly Polluted     75   137\n",
      "34    35       Beijing  109  Lightly Polluted     82   103\n",
      "35    36     Zhengzhou  111  Lightly Polluted     63   172\n",
      "36    37       Tianjin  118  Lightly Polluted     83   179\n",
      "37    38        Baotou  124  Lightly Polluted     59   198\n",
      "38    39  Shijiazhuang  129  Lightly Polluted     87   200\n",
      "39    40       Taiyuan  141  Lightly Polluted     88   214\n",
      "40    41      Yinchuan  203  Heavily Polluted     77   340\n",
      "\n",
      "Cities with Pollution\n",
      "\n",
      "    Rank          City  AQI Air Quality Level  PM2.5  PM10\n",
      "30    31       Luoyang  101  Lightly Polluted     67   144\n",
      "31    32       Chengdu  101  Lightly Polluted     62   143\n",
      "32    33         Jinan  103  Lightly Polluted     43   151\n",
      "33    34          Xian  106  Lightly Polluted     75   137\n",
      "34    35       Beijing  109  Lightly Polluted     82   103\n",
      "35    36     Zhengzhou  111  Lightly Polluted     63   172\n",
      "36    37       Tianjin  118  Lightly Polluted     83   179\n",
      "37    38        Baotou  124  Lightly Polluted     59   198\n",
      "38    39  Shijiazhuang  129  Lightly Polluted     87   200\n",
      "39    40       Taiyuan  141  Lightly Polluted     88   214\n",
      "40    41      Yinchuan  203  Heavily Polluted     77   340\n"
     ]
    },
    {
     "data": {
      "image/png": "[encoded data removed]",
      "text/plain": [
       "<matplotlib.figure.Figure at 0x1113999b0>"
      ]
     },
     "metadata": {},
     "output_type": "display_data"
    }
   ],
   "source": [
    "from bs4 import BeautifulSoup\n",
    "import requests\n",
    "import csv\n",
    "import pandas as pd\n",
    "import matplotlib.pyplot as plt\n",
    "\n",
    "# Fetch URL\n",
    "html_page = requests.get('https://www.travelchinaguide.com/climate/air-pollution.htm') \n",
    "# Obtain the entire HTML page\n",
    "soup = BeautifulSoup(html_page.content,'html.parser')\n",
    "# Find all the HTML tables \n",
    "tables = soup.find_all(class_=\"c_tableX\")\n",
    "# Access the first HTML table that contains Air Quality information (header + data)\n",
    "table = tables[1]\n",
    "# Obtaih air quality column header descriptions from the first HTML table\n",
    "table_header = table.find(class_=\"c_tableX_th\")\n",
    "# Extract the header names from the 'td' elements of the header table and store in the variable 'tds'\n",
    "tds = table_header.find_all('td')\n",
    "# Create two empty lists for holding the air quality header names and air quality data\n",
    "header = []\n",
    "data = []\n",
    "# Loop through the table cells (i.e. 'tds') to extract header names and append to the list\n",
    "for i in tds:\n",
    "    # print(i.text)\n",
    "    header.append(i.text)\n",
    "# print header\n",
    "all_rows = table.find_all(\"tr\")\n",
    "# print data_rows.text\n",
    "for i, row in enumerate(all_rows,1):\n",
    "        # print row.text\n",
    "        if (i < len(all_rows)):\n",
    "            tds = all_rows[i].find_all(\"td\")\n",
    "            for j, td in enumerate(tds,1):\n",
    "                # print j,td.text\n",
    "                if j==1:\n",
    "                    rank = td.text\n",
    "                if j==2:\n",
    "                    city = td.text\n",
    "                if j==3:\n",
    "                    province = td.text\n",
    "                if j==4:\n",
    "                    aqi = td.text\n",
    "                if j==5:\n",
    "                    air_quality = td.text\n",
    "                if j==6:\n",
    "                    pm2_5 = td.text\n",
    "                if j==7:\n",
    "                    pm10 = td.text\n",
    "            data.append([rank,city,province,aqi,air_quality,pm2_5,pm10])\n",
    "# Assign row data and column headers to dataframe         \n",
    "df = pd.DataFrame(data,\n",
    "  columns = header\n",
    ")\n",
    "# Save dataframe to external csv file\n",
    "df.to_csv('projects/china_air_quality.csv', sep='\\t', encoding='utf-8')\n",
    "# open csv file and read csv data into Pandas dataframe\n",
    "df = pd.read_csv(\"projects/china_air_quality.csv\",sep='\\t', encoding='utf-8')\n",
    "# Set column headings for entire air quality table and print out the entire table\n",
    "air_quality_ranking = df[['Rank','City','AQI','Air Quality Level','PM2.5','PM10']]\n",
    "# ////////////////////////////////////////////////////////////////////\n",
    "# Display City Ranking by Pollution Level\n",
    "# ////////////////////////////////////////////////////////////////////\n",
    "print(\"Air Quality Ranking\\n\")\n",
    "print(air_quality_ranking)\n",
    "# Extract cities that are polluted\n",
    "lightly_polluted = df[df['Air Quality Level'] == 'Lightly Polluted']\n",
    "heavily_polluted = df[df['Air Quality Level'] == 'Heavily Polluted']\n",
    "# Combine the cities of different pollution level into one table\n",
    "selected = lightly_polluted.append(heavily_polluted)\n",
    "pc = selected[['Rank','City','AQI','Air Quality Level','PM2.5','PM10']]\n",
    "# ////////////////////////////////////////////////////////////////////\n",
    "# Display Cities with Pollution\n",
    "# ////////////////////////////////////////////////////////////////////\n",
    "print(\"\\nCities with Pollution\\n\")\n",
    "print(pc)\n",
    "cities = pc['City'].tolist()\n",
    "aqi_lvl = pc['AQI'].tolist()\n",
    "ax = plt.subplot()\n",
    "plt.bar(range(len(cities)),aqi_lvl)\n",
    "# Create ax object here\n",
    "j = 0\n",
    "ax_list = []\n",
    "while j<len(cities):\n",
    "    ax_list.append(j)\n",
    "    j += 1\n",
    "ax.set_xticks(ax_list)\n",
    "plt.xlabel('Cities')\n",
    "plt.ylabel('AQI Levels')\n",
    "plt.title('Cities with High AQI Levels')\n",
    "ax.set_xticklabels(cities, rotation=70)\n",
    "plt.show()"
   ]
  },
  {
   "cell_type": "markdown",
   "metadata": {},
   "source": [
    "<h1><center>Try it out</center></h1>"
   ]
  },
  {
   "cell_type": "code",
   "execution_count": null,
   "metadata": {},
   "outputs": [],
   "source": []
  }
 ],
 "metadata": {
  "hide_input": false,
  "kernelspec": {
   "display_name": "Python 3",
   "language": "python",
   "name": "python3"
  },
  "language_info": {
   "codemirror_mode": {
    "name": "ipython",
    "version": 3
   },
   "file_extension": ".py",
   "mimetype": "text/x-python",
   "name": "python",
   "nbconvert_exporter": "python",
   "pygments_lexer": "ipython3",
   "version": "3.6.4"
  }
 },
 "nbformat": 4,
 "nbformat_minor": 2
}
